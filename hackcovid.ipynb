{
  "nbformat": 4,
  "nbformat_minor": 0,
  "metadata": {
    "colab": {
      "name": "hackcovid.ipynb",
      "provenance": [],
      "authorship_tag": "ABX9TyMUiljV/J8EcTwUwkxfRn63",
      "include_colab_link": true
    },
    "kernelspec": {
      "name": "python3",
      "display_name": "Python 3"
    },
    "accelerator": "GPU"
  },
  "cells": [
    {
      "cell_type": "markdown",
      "metadata": {
        "id": "view-in-github",
        "colab_type": "text"
      },
      "source": [
        "<a href=\"https://colab.research.google.com/github/Tarandeep97/Smart-radiologist/blob/master/hackcovid.ipynb\" target=\"_parent\"><img src=\"https://colab.research.google.com/assets/colab-badge.svg\" alt=\"Open In Colab\"/></a>"
      ]
    },
    {
      "cell_type": "code",
      "metadata": {
        "id": "PI9fvDZRg1AS",
        "colab_type": "code",
        "colab": {
          "resources": {
            "http://localhost:8080/nbextensions/google.colab/files.js": {
              "data": "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",
              "ok": true,
              "headers": [
                [
                  "content-type",
                  "application/javascript"
                ]
              ],
              "status": 200,
              "status_text": "OK"
            }
          },
          "base_uri": "https://localhost:8080/",
          "height": 75
        },
        "outputId": "10ab4cf7-f494-4fc8-e6c1-88047de0e03f"
      },
      "source": [
        "from google.colab import files\n",
        "\n",
        "\n",
        "uploaded = files.upload()\n",
        "\n",
        "\n",
        "!mkdir -p ~/.kaggle\n",
        "!cp kaggle.json ~/.kaggle/\n",
        "\n",
        "!chmod 600 ~/.kaggle/kaggle.json"
      ],
      "execution_count": 1,
      "outputs": [
        {
          "output_type": "display_data",
          "data": {
            "text/html": [
              "\n",
              "     <input type=\"file\" id=\"files-df37eb50-8e91-42ff-9565-5fc8dfc526bf\" name=\"files[]\" multiple disabled\n",
              "        style=\"border:none\" />\n",
              "     <output id=\"result-df37eb50-8e91-42ff-9565-5fc8dfc526bf\">\n",
              "      Upload widget is only available when the cell has been executed in the\n",
              "      current browser session. Please rerun this cell to enable.\n",
              "      </output>\n",
              "      <script src=\"/nbextensions/google.colab/files.js\"></script> "
            ],
            "text/plain": [
              "<IPython.core.display.HTML object>"
            ]
          },
          "metadata": {
            "tags": []
          }
        },
        {
          "output_type": "stream",
          "text": [
            "Saving kaggle.json to kaggle.json\n"
          ],
          "name": "stdout"
        }
      ]
    },
    {
      "cell_type": "markdown",
      "metadata": {
        "id": "5SxkvD5LD-sM",
        "colab_type": "text"
      },
      "source": [
        "# New Section"
      ]
    },
    {
      "cell_type": "code",
      "metadata": {
        "id": "d_D4Cm9VhPRB",
        "colab_type": "code",
        "colab": {
          "base_uri": "https://localhost:8080/",
          "height": 72
        },
        "outputId": "e866fd02-e9f9-497d-b142-42a57aca75b9"
      },
      "source": [
        "!kaggle datasets download -d tarandeep97/xraysnormalcovid"
      ],
      "execution_count": 2,
      "outputs": [
        {
          "output_type": "stream",
          "text": [
            "Downloading xraysnormalcovid.zip to /content\n",
            "100% 152M/152M [00:04<00:00, 51.7MB/s]\n",
            "\n"
          ],
          "name": "stdout"
        }
      ]
    },
    {
      "cell_type": "code",
      "metadata": {
        "id": "iSAwqsRtXO8f",
        "colab_type": "code",
        "colab": {
          "base_uri": "https://localhost:8080/",
          "height": 1000
        },
        "outputId": "e4ad0c03-028d-4321-e4f7-e43a558406e8"
      },
      "source": [
        "!mkdir chest-xray-pneumonia\n",
        "\n",
        "!unzip xraysnormalcovid.zip -d chest-xray-pneumonia"
      ],
      "execution_count": 3,
      "outputs": [
        {
          "output_type": "stream",
          "text": [
            "Archive:  xraysnormalcovid.zip\n",
            "  inflating: chest-xray-pneumonia/covid-normal-pneumonia/test/bacterial/person30_bacteria_155.jpeg  \n",
            "  inflating: chest-xray-pneumonia/covid-normal-pneumonia/test/bacterial/person30_bacteria_156.jpeg  \n",
            "  inflating: chest-xray-pneumonia/covid-normal-pneumonia/test/bacterial/person30_bacteria_157.jpeg  \n",
            "  inflating: chest-xray-pneumonia/covid-normal-pneumonia/test/bacterial/person30_bacteria_158.jpeg  \n",
            "  inflating: chest-xray-pneumonia/covid-normal-pneumonia/test/bacterial/person31_bacteria_160.jpeg  \n",
            "  inflating: chest-xray-pneumonia/covid-normal-pneumonia/test/bacterial/person33_bacteria_169.jpeg  \n",
            "  inflating: chest-xray-pneumonia/covid-normal-pneumonia/test/bacterial/person33_bacteria_172.jpeg  \n",
            "  inflating: chest-xray-pneumonia/covid-normal-pneumonia/test/covid/nejmc2001573_f1b.jpeg  \n",
            "  inflating: chest-xray-pneumonia/covid-normal-pneumonia/test/covid/nejmoa2001191_f4.jpeg  \n",
            "  inflating: chest-xray-pneumonia/covid-normal-pneumonia/test/covid/nejmoa2001191_f5-PA.jpeg  \n",
            "  inflating: chest-xray-pneumonia/covid-normal-pneumonia/test/covid/paving.jpg  \n",
            "  inflating: chest-xray-pneumonia/covid-normal-pneumonia/test/covid/radiol.2020200274.fig3d.png  \n",
            "  inflating: chest-xray-pneumonia/covid-normal-pneumonia/test/covid/ryct.2020200034.fig5-day7.jpeg  \n",
            "  inflating: chest-xray-pneumonia/covid-normal-pneumonia/test/covid/yxppt-2020-02-19_00-51-27_287214-day8.jpg  \n",
            "  inflating: chest-xray-pneumonia/covid-normal-pneumonia/test/normal/IM-0312-0001.jpeg  \n",
            "  inflating: chest-xray-pneumonia/covid-normal-pneumonia/test/normal/IM-0313-0001.jpeg  \n",
            "  inflating: chest-xray-pneumonia/covid-normal-pneumonia/test/normal/IM-0314-0001.jpeg  \n",
            "  inflating: chest-xray-pneumonia/covid-normal-pneumonia/test/normal/IM-0315-0001.jpeg  \n",
            "  inflating: chest-xray-pneumonia/covid-normal-pneumonia/test/normal/IM-0316-0001.jpeg  \n",
            "  inflating: chest-xray-pneumonia/covid-normal-pneumonia/test/normal/IM-0317-0001.jpeg  \n",
            "  inflating: chest-xray-pneumonia/covid-normal-pneumonia/test/normal/IM-0318-0001.jpeg  \n",
            "  inflating: chest-xray-pneumonia/covid-normal-pneumonia/test/viral/person955_virus_1627.jpeg  \n",
            "  inflating: chest-xray-pneumonia/covid-normal-pneumonia/test/viral/person956_virus_1628.jpeg  \n",
            "  inflating: chest-xray-pneumonia/covid-normal-pneumonia/test/viral/person957_virus_1629.jpeg  \n",
            "  inflating: chest-xray-pneumonia/covid-normal-pneumonia/test/viral/person966_virus_1639.jpeg  \n",
            "  inflating: chest-xray-pneumonia/covid-normal-pneumonia/test/viral/person967_virus_1640.jpeg  \n",
            "  inflating: chest-xray-pneumonia/covid-normal-pneumonia/test/viral/person968_virus_1642.jpeg  \n",
            "  inflating: chest-xray-pneumonia/covid-normal-pneumonia/test/viral/person969_virus_1643.jpeg  \n",
            "  inflating: chest-xray-pneumonia/covid-normal-pneumonia/train/bacterial/person10_bacteria_43.jpeg  \n",
            "  inflating: chest-xray-pneumonia/covid-normal-pneumonia/train/bacterial/person11_bacteria_45.jpeg  \n",
            "  inflating: chest-xray-pneumonia/covid-normal-pneumonia/train/bacterial/person12_bacteria_46.jpeg  \n",
            "  inflating: chest-xray-pneumonia/covid-normal-pneumonia/train/bacterial/person12_bacteria_47.jpeg  \n",
            "  inflating: chest-xray-pneumonia/covid-normal-pneumonia/train/bacterial/person12_bacteria_48.jpeg  \n",
            "  inflating: chest-xray-pneumonia/covid-normal-pneumonia/train/bacterial/person13_bacteria_49.jpeg  \n",
            "  inflating: chest-xray-pneumonia/covid-normal-pneumonia/train/bacterial/person13_bacteria_50.jpeg  \n",
            "  inflating: chest-xray-pneumonia/covid-normal-pneumonia/train/bacterial/person14_bacteria_51.jpeg  \n",
            "  inflating: chest-xray-pneumonia/covid-normal-pneumonia/train/bacterial/person15_bacteria_52.jpeg  \n",
            "  inflating: chest-xray-pneumonia/covid-normal-pneumonia/train/bacterial/person16_bacteria_53.jpeg  \n",
            "  inflating: chest-xray-pneumonia/covid-normal-pneumonia/train/bacterial/person16_bacteria_54.jpeg  \n",
            "  inflating: chest-xray-pneumonia/covid-normal-pneumonia/train/bacterial/person16_bacteria_55.jpeg  \n",
            "  inflating: chest-xray-pneumonia/covid-normal-pneumonia/train/bacterial/person17_bacteria_56.jpeg  \n",
            "  inflating: chest-xray-pneumonia/covid-normal-pneumonia/train/bacterial/person18_bacteria_57.jpeg  \n",
            "  inflating: chest-xray-pneumonia/covid-normal-pneumonia/train/bacterial/person1941_bacteria_4863.jpeg  \n",
            "  inflating: chest-xray-pneumonia/covid-normal-pneumonia/train/bacterial/person19_bacteria_58.jpeg  \n",
            "  inflating: chest-xray-pneumonia/covid-normal-pneumonia/train/bacterial/person19_bacteria_59.jpeg  \n",
            "  inflating: chest-xray-pneumonia/covid-normal-pneumonia/train/bacterial/person19_bacteria_60.jpeg  \n",
            "  inflating: chest-xray-pneumonia/covid-normal-pneumonia/train/bacterial/person19_bacteria_61.jpeg  \n",
            "  inflating: chest-xray-pneumonia/covid-normal-pneumonia/train/bacterial/person19_bacteria_62.jpeg  \n",
            "  inflating: chest-xray-pneumonia/covid-normal-pneumonia/train/bacterial/person19_bacteria_63.jpeg  \n",
            "  inflating: chest-xray-pneumonia/covid-normal-pneumonia/train/bacterial/person1_bacteria_1.jpeg  \n",
            "  inflating: chest-xray-pneumonia/covid-normal-pneumonia/train/bacterial/person1_bacteria_2.jpeg  \n",
            "  inflating: chest-xray-pneumonia/covid-normal-pneumonia/train/bacterial/person20_bacteria_64.jpeg  \n",
            "  inflating: chest-xray-pneumonia/covid-normal-pneumonia/train/bacterial/person20_bacteria_66.jpeg  \n",
            "  inflating: chest-xray-pneumonia/covid-normal-pneumonia/train/bacterial/person20_bacteria_67.jpeg  \n",
            "  inflating: chest-xray-pneumonia/covid-normal-pneumonia/train/bacterial/person20_bacteria_69.jpeg  \n",
            "  inflating: chest-xray-pneumonia/covid-normal-pneumonia/train/bacterial/person20_bacteria_70.jpeg  \n",
            "  inflating: chest-xray-pneumonia/covid-normal-pneumonia/train/bacterial/person21_bacteria_72.jpeg  \n",
            "  inflating: chest-xray-pneumonia/covid-normal-pneumonia/train/bacterial/person21_bacteria_73.jpeg  \n",
            "  inflating: chest-xray-pneumonia/covid-normal-pneumonia/train/bacterial/person22_bacteria_74.jpeg  \n",
            "  inflating: chest-xray-pneumonia/covid-normal-pneumonia/train/bacterial/person22_bacteria_76.jpeg  \n",
            "  inflating: chest-xray-pneumonia/covid-normal-pneumonia/train/bacterial/person22_bacteria_77.jpeg  \n",
            "  inflating: chest-xray-pneumonia/covid-normal-pneumonia/train/bacterial/person23_bacteria_100.jpeg  \n",
            "  inflating: chest-xray-pneumonia/covid-normal-pneumonia/train/bacterial/person23_bacteria_101.jpeg  \n",
            "  inflating: chest-xray-pneumonia/covid-normal-pneumonia/train/bacterial/person23_bacteria_102.jpeg  \n",
            "  inflating: chest-xray-pneumonia/covid-normal-pneumonia/train/bacterial/person23_bacteria_103.jpeg  \n",
            "  inflating: chest-xray-pneumonia/covid-normal-pneumonia/train/bacterial/person23_bacteria_104.jpeg  \n",
            "  inflating: chest-xray-pneumonia/covid-normal-pneumonia/train/bacterial/person23_bacteria_105.jpeg  \n",
            "  inflating: chest-xray-pneumonia/covid-normal-pneumonia/train/bacterial/person23_bacteria_106.jpeg  \n",
            "  inflating: chest-xray-pneumonia/covid-normal-pneumonia/train/bacterial/person23_bacteria_107.jpeg  \n",
            "  inflating: chest-xray-pneumonia/covid-normal-pneumonia/train/bacterial/person23_bacteria_78.jpeg  \n",
            "  inflating: chest-xray-pneumonia/covid-normal-pneumonia/train/bacterial/person23_bacteria_79.jpeg  \n",
            "  inflating: chest-xray-pneumonia/covid-normal-pneumonia/train/bacterial/person23_bacteria_80.jpeg  \n",
            "  inflating: chest-xray-pneumonia/covid-normal-pneumonia/train/bacterial/person23_bacteria_81.jpeg  \n",
            "  inflating: chest-xray-pneumonia/covid-normal-pneumonia/train/bacterial/person23_bacteria_82.jpeg  \n",
            "  inflating: chest-xray-pneumonia/covid-normal-pneumonia/train/bacterial/person23_bacteria_83.jpeg  \n",
            "  inflating: chest-xray-pneumonia/covid-normal-pneumonia/train/bacterial/person23_bacteria_84.jpeg  \n",
            "  inflating: chest-xray-pneumonia/covid-normal-pneumonia/train/bacterial/person23_bacteria_85.jpeg  \n",
            "  inflating: chest-xray-pneumonia/covid-normal-pneumonia/train/bacterial/person23_bacteria_86.jpeg  \n",
            "  inflating: chest-xray-pneumonia/covid-normal-pneumonia/train/bacterial/person23_bacteria_87.jpeg  \n",
            "  inflating: chest-xray-pneumonia/covid-normal-pneumonia/train/bacterial/person23_bacteria_88.jpeg  \n",
            "  inflating: chest-xray-pneumonia/covid-normal-pneumonia/train/bacterial/person23_bacteria_89.jpeg  \n",
            "  inflating: chest-xray-pneumonia/covid-normal-pneumonia/train/bacterial/person23_bacteria_90.jpeg  \n",
            "  inflating: chest-xray-pneumonia/covid-normal-pneumonia/train/bacterial/person23_bacteria_91.jpeg  \n",
            "  inflating: chest-xray-pneumonia/covid-normal-pneumonia/train/bacterial/person23_bacteria_92.jpeg  \n",
            "  inflating: chest-xray-pneumonia/covid-normal-pneumonia/train/bacterial/person23_bacteria_93.jpeg  \n",
            "  inflating: chest-xray-pneumonia/covid-normal-pneumonia/train/bacterial/person23_bacteria_94.jpeg  \n",
            "  inflating: chest-xray-pneumonia/covid-normal-pneumonia/train/bacterial/person23_bacteria_95.jpeg  \n",
            "  inflating: chest-xray-pneumonia/covid-normal-pneumonia/train/bacterial/person23_bacteria_96.jpeg  \n",
            "  inflating: chest-xray-pneumonia/covid-normal-pneumonia/train/bacterial/person23_bacteria_97.jpeg  \n",
            "  inflating: chest-xray-pneumonia/covid-normal-pneumonia/train/bacterial/person23_bacteria_98.jpeg  \n",
            "  inflating: chest-xray-pneumonia/covid-normal-pneumonia/train/bacterial/person23_bacteria_99.jpeg  \n",
            "  inflating: chest-xray-pneumonia/covid-normal-pneumonia/train/bacterial/person24_bacteria_108.jpeg  \n",
            "  inflating: chest-xray-pneumonia/covid-normal-pneumonia/train/bacterial/person24_bacteria_109.jpeg  \n",
            "  inflating: chest-xray-pneumonia/covid-normal-pneumonia/train/bacterial/person24_bacteria_110.jpeg  \n",
            "  inflating: chest-xray-pneumonia/covid-normal-pneumonia/train/bacterial/person24_bacteria_111.jpeg  \n",
            "  inflating: chest-xray-pneumonia/covid-normal-pneumonia/train/bacterial/person24_bacteria_112.jpeg  \n",
            "  inflating: chest-xray-pneumonia/covid-normal-pneumonia/train/bacterial/person25_bacteria_113.jpeg  \n",
            "  inflating: chest-xray-pneumonia/covid-normal-pneumonia/train/bacterial/person25_bacteria_114.jpeg  \n",
            "  inflating: chest-xray-pneumonia/covid-normal-pneumonia/train/bacterial/person25_bacteria_115.jpeg  \n",
            "  inflating: chest-xray-pneumonia/covid-normal-pneumonia/train/bacterial/person25_bacteria_116.jpeg  \n",
            "  inflating: chest-xray-pneumonia/covid-normal-pneumonia/train/bacterial/person25_bacteria_117.jpeg  \n",
            "  inflating: chest-xray-pneumonia/covid-normal-pneumonia/train/bacterial/person25_bacteria_118.jpeg  \n",
            "  inflating: chest-xray-pneumonia/covid-normal-pneumonia/train/bacterial/person25_bacteria_119.jpeg  \n",
            "  inflating: chest-xray-pneumonia/covid-normal-pneumonia/train/bacterial/person25_bacteria_120.jpeg  \n",
            "  inflating: chest-xray-pneumonia/covid-normal-pneumonia/train/bacterial/person25_bacteria_121.jpeg  \n",
            "  inflating: chest-xray-pneumonia/covid-normal-pneumonia/train/bacterial/person26_bacteria_122.jpeg  \n",
            "  inflating: chest-xray-pneumonia/covid-normal-pneumonia/train/bacterial/person26_bacteria_123.jpeg  \n",
            "  inflating: chest-xray-pneumonia/covid-normal-pneumonia/train/bacterial/person26_bacteria_124.jpeg  \n",
            "  inflating: chest-xray-pneumonia/covid-normal-pneumonia/train/bacterial/person26_bacteria_126.jpeg  \n",
            "  inflating: chest-xray-pneumonia/covid-normal-pneumonia/train/bacterial/person26_bacteria_127.jpeg  \n",
            "  inflating: chest-xray-pneumonia/covid-normal-pneumonia/train/bacterial/person26_bacteria_128.jpeg  \n",
            "  inflating: chest-xray-pneumonia/covid-normal-pneumonia/train/bacterial/person26_bacteria_129.jpeg  \n",
            "  inflating: chest-xray-pneumonia/covid-normal-pneumonia/train/bacterial/person26_bacteria_130.jpeg  \n",
            "  inflating: chest-xray-pneumonia/covid-normal-pneumonia/train/bacterial/person26_bacteria_131.jpeg  \n",
            "  inflating: chest-xray-pneumonia/covid-normal-pneumonia/train/bacterial/person26_bacteria_132.jpeg  \n",
            "  inflating: chest-xray-pneumonia/covid-normal-pneumonia/train/bacterial/person26_bacteria_133.jpeg  \n",
            "  inflating: chest-xray-pneumonia/covid-normal-pneumonia/train/bacterial/person27_bacteria_135.jpeg  \n",
            "  inflating: chest-xray-pneumonia/covid-normal-pneumonia/train/bacterial/person27_bacteria_136.jpeg  \n",
            "  inflating: chest-xray-pneumonia/covid-normal-pneumonia/train/bacterial/person27_bacteria_137.jpeg  \n",
            "  inflating: chest-xray-pneumonia/covid-normal-pneumonia/train/bacterial/person27_bacteria_138.jpeg  \n",
            "  inflating: chest-xray-pneumonia/covid-normal-pneumonia/train/bacterial/person28_bacteria_139.jpeg  \n",
            "  inflating: chest-xray-pneumonia/covid-normal-pneumonia/train/bacterial/person28_bacteria_141.jpeg  \n",
            "  inflating: chest-xray-pneumonia/covid-normal-pneumonia/train/bacterial/person2_bacteria_3.jpeg  \n",
            "  inflating: chest-xray-pneumonia/covid-normal-pneumonia/train/bacterial/person2_bacteria_4.jpeg  \n",
            "  inflating: chest-xray-pneumonia/covid-normal-pneumonia/train/bacterial/person30_bacteria_149.jpeg  \n",
            "  inflating: chest-xray-pneumonia/covid-normal-pneumonia/train/bacterial/person30_bacteria_150.jpeg  \n",
            "  inflating: chest-xray-pneumonia/covid-normal-pneumonia/train/bacterial/person30_bacteria_151.jpeg  \n",
            "  inflating: chest-xray-pneumonia/covid-normal-pneumonia/train/bacterial/person30_bacteria_152.jpeg  \n",
            "  inflating: chest-xray-pneumonia/covid-normal-pneumonia/train/bacterial/person32_bacteria_166.jpeg  \n",
            "  inflating: chest-xray-pneumonia/covid-normal-pneumonia/train/bacterial/person3_bacteria_10.jpeg  \n",
            "  inflating: chest-xray-pneumonia/covid-normal-pneumonia/train/bacterial/person3_bacteria_11.jpeg  \n",
            "  inflating: chest-xray-pneumonia/covid-normal-pneumonia/train/bacterial/person3_bacteria_12.jpeg  \n",
            "  inflating: chest-xray-pneumonia/covid-normal-pneumonia/train/bacterial/person3_bacteria_13.jpeg  \n",
            "  inflating: chest-xray-pneumonia/covid-normal-pneumonia/train/bacterial/person4_bacteria_14.jpeg  \n",
            "  inflating: chest-xray-pneumonia/covid-normal-pneumonia/train/bacterial/person5_bacteria_15.jpeg  \n",
            "  inflating: chest-xray-pneumonia/covid-normal-pneumonia/train/bacterial/person5_bacteria_16.jpeg  \n",
            "  inflating: chest-xray-pneumonia/covid-normal-pneumonia/train/bacterial/person5_bacteria_17.jpeg  \n",
            "  inflating: chest-xray-pneumonia/covid-normal-pneumonia/train/bacterial/person5_bacteria_19.jpeg  \n",
            "  inflating: chest-xray-pneumonia/covid-normal-pneumonia/train/bacterial/person6_bacteria_22.jpeg  \n",
            "  inflating: chest-xray-pneumonia/covid-normal-pneumonia/train/bacterial/person7_bacteria_24.jpeg  \n",
            "  inflating: chest-xray-pneumonia/covid-normal-pneumonia/train/bacterial/person7_bacteria_25.jpeg  \n",
            "  inflating: chest-xray-pneumonia/covid-normal-pneumonia/train/bacterial/person7_bacteria_28.jpeg  \n",
            "  inflating: chest-xray-pneumonia/covid-normal-pneumonia/train/bacterial/person7_bacteria_29.jpeg  \n",
            "  inflating: chest-xray-pneumonia/covid-normal-pneumonia/train/bacterial/person8_bacteria_37.jpeg  \n",
            "  inflating: chest-xray-pneumonia/covid-normal-pneumonia/train/bacterial/person9_bacteria_38.jpeg  \n",
            "  inflating: chest-xray-pneumonia/covid-normal-pneumonia/train/bacterial/person9_bacteria_39.jpeg  \n",
            "  inflating: chest-xray-pneumonia/covid-normal-pneumonia/train/bacterial/person9_bacteria_40.jpeg  \n",
            "  inflating: chest-xray-pneumonia/covid-normal-pneumonia/train/bacterial/person9_bacteria_41.jpeg  \n",
            "  inflating: chest-xray-pneumonia/covid-normal-pneumonia/train/covid/01E392EE-69F9-4E33-BFCE-E5C968654078.jpeg  \n",
            "  inflating: chest-xray-pneumonia/covid-normal-pneumonia/train/covid/03BF7561-A9BA-4C3C-B8A0-D3E585F73F3C.jpeg  \n",
            "  inflating: chest-xray-pneumonia/covid-normal-pneumonia/train/covid/1-s2.0-S0140673620303706-fx1_lrg.jpg  \n",
            "  inflating: chest-xray-pneumonia/covid-normal-pneumonia/train/covid/1-s2.0-S1684118220300608-main.pdf-001.jpg  \n",
            "  inflating: chest-xray-pneumonia/covid-normal-pneumonia/train/covid/1-s2.0-S1684118220300608-main.pdf-002.jpg  \n",
            "  inflating: chest-xray-pneumonia/covid-normal-pneumonia/train/covid/1-s2.0-S1684118220300682-main.pdf-002-a1.png  \n",
            "  inflating: chest-xray-pneumonia/covid-normal-pneumonia/train/covid/1-s2.0-S1684118220300682-main.pdf-002-a2.png  \n",
            "  inflating: chest-xray-pneumonia/covid-normal-pneumonia/train/covid/1-s2.0-S1684118220300682-main.pdf-003-b1.png  \n",
            "  inflating: chest-xray-pneumonia/covid-normal-pneumonia/train/covid/1-s2.0-S1684118220300682-main.pdf-003-b2.png  \n",
            "  inflating: chest-xray-pneumonia/covid-normal-pneumonia/train/covid/1.CXRCTThoraximagesofCOVID-19fromSingapore.pdf-000-fig1a.png  \n",
            "  inflating: chest-xray-pneumonia/covid-normal-pneumonia/train/covid/1.CXRCTThoraximagesofCOVID-19fromSingapore.pdf-000-fig1b.png  \n",
            "  inflating: chest-xray-pneumonia/covid-normal-pneumonia/train/covid/1.CXRCTThoraximagesofCOVID-19fromSingapore.pdf-001-fig2a.png  \n",
            "  inflating: chest-xray-pneumonia/covid-normal-pneumonia/train/covid/1.CXRCTThoraximagesofCOVID-19fromSingapore.pdf-001-fig2b.png  \n",
            "  inflating: chest-xray-pneumonia/covid-normal-pneumonia/train/covid/1.CXRCTThoraximagesofCOVID-19fromSingapore.pdf-002-fig3a.png  \n",
            "  inflating: chest-xray-pneumonia/covid-normal-pneumonia/train/covid/1.CXRCTThoraximagesofCOVID-19fromSingapore.pdf-002-fig3b.png  \n",
            "  inflating: chest-xray-pneumonia/covid-normal-pneumonia/train/covid/1.CXRCTThoraximagesofCOVID-19fromSingapore.pdf-003-fig4a.png  \n",
            "  inflating: chest-xray-pneumonia/covid-normal-pneumonia/train/covid/1.CXRCTThoraximagesofCOVID-19fromSingapore.pdf-003-fig4b.png  \n",
            "  inflating: chest-xray-pneumonia/covid-normal-pneumonia/train/covid/1312A392-67A3-4EBF-9319-810CF6DA5EF6.jpeg  \n",
            "  inflating: chest-xray-pneumonia/covid-normal-pneumonia/train/covid/16654_1_1.png  \n",
            "  inflating: chest-xray-pneumonia/covid-normal-pneumonia/train/covid/16654_2_1.jpg  \n",
            "  inflating: chest-xray-pneumonia/covid-normal-pneumonia/train/covid/16654_4_1.jpg  \n",
            "  inflating: chest-xray-pneumonia/covid-normal-pneumonia/train/covid/16660_1_1.jpg  \n",
            "  inflating: chest-xray-pneumonia/covid-normal-pneumonia/train/covid/16660_2_1.jpg  \n",
            "  inflating: chest-xray-pneumonia/covid-normal-pneumonia/train/covid/16660_3_1.jpg  \n",
            "  inflating: chest-xray-pneumonia/covid-normal-pneumonia/train/covid/16660_4_1.jpg  \n",
            "  inflating: chest-xray-pneumonia/covid-normal-pneumonia/train/covid/16663_1_1.jpg  \n",
            "  inflating: chest-xray-pneumonia/covid-normal-pneumonia/train/covid/16664_1_1.jpg  \n",
            "  inflating: chest-xray-pneumonia/covid-normal-pneumonia/train/covid/16669_1_1.jpeg  \n",
            "  inflating: chest-xray-pneumonia/covid-normal-pneumonia/train/covid/16669_3_1.jpeg  \n",
            "  inflating: chest-xray-pneumonia/covid-normal-pneumonia/train/covid/16672_1_1.jpg  \n",
            "  inflating: chest-xray-pneumonia/covid-normal-pneumonia/train/covid/16708_1_1.jpg  \n",
            "  inflating: chest-xray-pneumonia/covid-normal-pneumonia/train/covid/16708_4_1.jpg  \n",
            "  inflating: chest-xray-pneumonia/covid-normal-pneumonia/train/covid/16708_5_1.jpg  \n",
            "  inflating: chest-xray-pneumonia/covid-normal-pneumonia/train/covid/1B734A89-A1BF-49A8-A1D3-66FAFA4FAC5D.jpeg  \n",
            "  inflating: chest-xray-pneumonia/covid-normal-pneumonia/train/covid/2-chest-filmc.jpg  \n",
            "  inflating: chest-xray-pneumonia/covid-normal-pneumonia/train/covid/23E99E2E-447C-46E5-8EB2-D35D12473C39.png  \n",
            "  inflating: chest-xray-pneumonia/covid-normal-pneumonia/train/covid/2966893D-5DDF-4B68-9E2B-4979D5956C8E.jpeg  \n",
            "  inflating: chest-xray-pneumonia/covid-normal-pneumonia/train/covid/2C26F453-AF3B-4517-BB9E-802CF2179543.jpeg  \n",
            "  inflating: chest-xray-pneumonia/covid-normal-pneumonia/train/covid/31BA3780-2323-493F-8AED-62081B9C383B.jpeg  \n",
            "  inflating: chest-xray-pneumonia/covid-normal-pneumonia/train/covid/353889E0-A1E8-4F9E-A0B8-F24F36BCFBFB.jpeg  \n",
            "  inflating: chest-xray-pneumonia/covid-normal-pneumonia/train/covid/4-x-day1.jpg  \n",
            "  inflating: chest-xray-pneumonia/covid-normal-pneumonia/train/covid/41591_2020_819_Fig1_HTML.webp-day10.png  \n",
            "  inflating: chest-xray-pneumonia/covid-normal-pneumonia/train/covid/41591_2020_819_Fig1_HTML.webp-day5.png  \n",
            "  inflating: chest-xray-pneumonia/covid-normal-pneumonia/train/covid/4e43e48d52c9e2d4c6c1fb9bc1544f_jumbo.jpeg  \n",
            "  inflating: chest-xray-pneumonia/covid-normal-pneumonia/train/covid/53EC07C9-5CC6-4BE4-9B6F-D7B0D72AAA7E.jpeg  \n",
            "  inflating: chest-xray-pneumonia/covid-normal-pneumonia/train/covid/58cb9263f16e94305c730685358e4e_jumbo.jpeg  \n",
            "  inflating: chest-xray-pneumonia/covid-normal-pneumonia/train/covid/6C94A287-C059-46A0-8600-AFB95F4727B7.jpeg  \n",
            "  inflating: chest-xray-pneumonia/covid-normal-pneumonia/train/covid/6CB4EFC6-68FA-4CD5-940C-BEFA8DAFE9A7.jpeg  \n",
            "  inflating: chest-xray-pneumonia/covid-normal-pneumonia/train/covid/6b3bdbc31f65230b8cdcc3cef5f8ba8a-40ac-0.jpg  \n",
            "  inflating: chest-xray-pneumonia/covid-normal-pneumonia/train/covid/6b44464d-73a7-4cf3-bbb6-ffe7168300e3.annot.original.jpeg  \n",
            "  inflating: chest-xray-pneumonia/covid-normal-pneumonia/train/covid/7-fatal-covid19.jpg  \n",
            "  inflating: chest-xray-pneumonia/covid-normal-pneumonia/train/covid/7AF6C1AF-D249-4BD2-8C26-449304105D03.jpeg  \n",
            "  inflating: chest-xray-pneumonia/covid-normal-pneumonia/train/covid/7C69C012-7479-493F-8722-ABC29C60A2DD.jpeg  \n",
            "  inflating: chest-xray-pneumonia/covid-normal-pneumonia/train/covid/80446565-E090-4187-A031-9D3CEAA586C8.jpeg  \n",
            "  inflating: chest-xray-pneumonia/covid-normal-pneumonia/train/covid/85E52EB3-56E9-4D67-82DA-DEA247C82886.jpeg  \n",
            "  inflating: chest-xray-pneumonia/covid-normal-pneumonia/train/covid/88de9d8c39e946abd495b37cd07d89e5-2ee6-0.jpg  \n",
            "  inflating: chest-xray-pneumonia/covid-normal-pneumonia/train/covid/88de9d8c39e946abd495b37cd07d89e5-6531-0.jpg  \n",
            "  inflating: chest-xray-pneumonia/covid-normal-pneumonia/train/covid/8FDE8DBA-CFBD-4B4C-B1A4-6F36A93B7E87.jpeg  \n",
            "  inflating: chest-xray-pneumonia/covid-normal-pneumonia/train/covid/93FE0BB1-022D-4F24-9727-987A07975FFB.jpeg  \n",
            "  inflating: chest-xray-pneumonia/covid-normal-pneumonia/train/covid/9C34AF49-E589-44D5-92D3-168B3B04E4A6.jpeg  \n",
            "  inflating: chest-xray-pneumonia/covid-normal-pneumonia/train/covid/9fdd3c3032296fd04d2cad5d9070d4_jumbo.jpeg  \n",
            "  inflating: chest-xray-pneumonia/covid-normal-pneumonia/train/covid/AR-1.jpg  \n",
            "  inflating: chest-xray-pneumonia/covid-normal-pneumonia/train/covid/AR-2.jpg  \n",
            "  inflating: chest-xray-pneumonia/covid-normal-pneumonia/train/covid/B2D20576-00B7-4519-A415-72DE29C90C34.jpeg  \n",
            "  inflating: chest-xray-pneumonia/covid-normal-pneumonia/train/covid/CD50BA96-6982-4C80-AE7B-5F67ACDBFA56.jpeg  \n",
            "  inflating: chest-xray-pneumonia/covid-normal-pneumonia/train/covid/E63574A7-4188-4C8D-8D17-9D67A18A1AFA.jpeg  \n",
            "  inflating: chest-xray-pneumonia/covid-normal-pneumonia/train/covid/F2DE909F-E19C-4900-92F5-8F435B031AC6.jpeg  \n",
            "  inflating: chest-xray-pneumonia/covid-normal-pneumonia/train/covid/F4341CE7-73C9-45C6-99C8-8567A5484B63.jpeg  \n",
            "  inflating: chest-xray-pneumonia/covid-normal-pneumonia/train/covid/F63AB6CE-1968-4154-A70F-913AF154F53D.jpeg  \n",
            "  inflating: chest-xray-pneumonia/covid-normal-pneumonia/train/covid/FE9F9A5D-2830-46F9-851B-1FF4534959BE.jpeg  \n",
            "  inflating: chest-xray-pneumonia/covid-normal-pneumonia/train/covid/ae6c954c0039de4b5edee53865ffee43-e6c8-0.jpg  \n",
            "  inflating: chest-xray-pneumonia/covid-normal-pneumonia/train/covid/all14238-fig-0001-m-b.jpg  \n",
            "  inflating: chest-xray-pneumonia/covid-normal-pneumonia/train/covid/all14238-fig-0001-m-c.jpg  \n",
            "  inflating: chest-xray-pneumonia/covid-normal-pneumonia/train/covid/auntminnie-a-2020_01_28_23_51_6665_2020_01_28_Vietnam_coronavirus.jpeg  \n",
            "  inflating: chest-xray-pneumonia/covid-normal-pneumonia/train/covid/auntminnie-b-2020_01_28_23_51_6665_2020_01_28_Vietnam_coronavirus.jpeg  \n",
            "  inflating: chest-xray-pneumonia/covid-normal-pneumonia/train/covid/auntminnie-c-2020_01_28_23_51_6665_2020_01_28_Vietnam_coronavirus.jpeg  \n",
            "  inflating: chest-xray-pneumonia/covid-normal-pneumonia/train/covid/auntminnie-d-2020_01_28_23_51_6665_2020_01_28_Vietnam_coronavirus.jpeg  \n",
            "  inflating: chest-xray-pneumonia/covid-normal-pneumonia/train/covid/ciaa199.pdf-001-a.png  \n",
            "  inflating: chest-xray-pneumonia/covid-normal-pneumonia/train/covid/ciaa199.pdf-001-b.png  \n",
            "  inflating: chest-xray-pneumonia/covid-normal-pneumonia/train/covid/ciaa199.pdf-001-c.png  \n",
            "  inflating: chest-xray-pneumonia/covid-normal-pneumonia/train/covid/covid-19-caso-70-1-PA.jpg  \n",
            "  inflating: chest-xray-pneumonia/covid-normal-pneumonia/train/covid/covid-19-infection-exclusive-gastrointestinal-symptoms-pa.png  \n",
            "  inflating: chest-xray-pneumonia/covid-normal-pneumonia/train/covid/covid-19-pneumonia-12.jpg  \n",
            "  inflating: chest-xray-pneumonia/covid-normal-pneumonia/train/covid/covid-19-pneumonia-14-PA.png  \n",
            "  inflating: chest-xray-pneumonia/covid-normal-pneumonia/train/covid/covid-19-pneumonia-15-PA.jpg  \n",
            "  inflating: chest-xray-pneumonia/covid-normal-pneumonia/train/covid/covid-19-pneumonia-19.jpg  \n",
            "  inflating: chest-xray-pneumonia/covid-normal-pneumonia/train/covid/covid-19-pneumonia-2.jpg  \n",
            "  inflating: chest-xray-pneumonia/covid-normal-pneumonia/train/covid/covid-19-pneumonia-20-pa-on-admission.jpg  \n",
            "  inflating: chest-xray-pneumonia/covid-normal-pneumonia/train/covid/covid-19-pneumonia-20.jpg  \n",
            "  inflating: chest-xray-pneumonia/covid-normal-pneumonia/train/covid/covid-19-pneumonia-22-day1-pa.png  \n",
            "  inflating: chest-xray-pneumonia/covid-normal-pneumonia/train/covid/covid-19-pneumonia-22-day2-pa.png  \n",
            "  inflating: chest-xray-pneumonia/covid-normal-pneumonia/train/covid/covid-19-pneumonia-28.png  \n",
            "  inflating: chest-xray-pneumonia/covid-normal-pneumonia/train/covid/covid-19-pneumonia-30-PA.jpg  \n",
            "  inflating: chest-xray-pneumonia/covid-normal-pneumonia/train/covid/covid-19-pneumonia-34.png  \n",
            "  inflating: chest-xray-pneumonia/covid-normal-pneumonia/train/covid/covid-19-pneumonia-35-1.jpg  \n",
            "  inflating: chest-xray-pneumonia/covid-normal-pneumonia/train/covid/covid-19-pneumonia-35-2.jpg  \n",
            "  inflating: chest-xray-pneumonia/covid-normal-pneumonia/train/covid/covid-19-pneumonia-38-pa.jpg  \n",
            "  inflating: chest-xray-pneumonia/covid-normal-pneumonia/train/covid/covid-19-pneumonia-44-day-0.jpeg  \n",
            "  inflating: chest-xray-pneumonia/covid-normal-pneumonia/train/covid/covid-19-pneumonia-53.jpg  \n",
            "  inflating: chest-xray-pneumonia/covid-normal-pneumonia/train/covid/covid-19-pneumonia-58-day-10.jpg  \n",
            "  inflating: chest-xray-pneumonia/covid-normal-pneumonia/train/covid/covid-19-pneumonia-58-day-3.jpg  \n",
            "  inflating: chest-xray-pneumonia/covid-normal-pneumonia/train/covid/covid-19-pneumonia-58-day-7.jpg  \n",
            "  inflating: chest-xray-pneumonia/covid-normal-pneumonia/train/covid/covid-19-pneumonia-58-day-9.jpg  \n",
            "  inflating: chest-xray-pneumonia/covid-normal-pneumonia/train/covid/covid-19-pneumonia-67.jpeg  \n",
            "  inflating: chest-xray-pneumonia/covid-normal-pneumonia/train/covid/covid-19-pneumonia-7-PA.jpg  \n",
            "  inflating: chest-xray-pneumonia/covid-normal-pneumonia/train/covid/covid-19-pneumonia-8.jpg  \n",
            "  inflating: chest-xray-pneumonia/covid-normal-pneumonia/train/covid/covid-19-pneumonia-bilateral.jpg  \n",
            "  inflating: chest-xray-pneumonia/covid-normal-pneumonia/train/covid/covid-19-pneumonia-evolution-over-a-week-1-day0-PA.jpg  \n",
            "  inflating: chest-xray-pneumonia/covid-normal-pneumonia/train/covid/covid-19-pneumonia-mild.JPG  \n",
            "  inflating: chest-xray-pneumonia/covid-normal-pneumonia/train/covid/extubation-1.jpg  \n",
            "  inflating: chest-xray-pneumonia/covid-normal-pneumonia/train/covid/extubation-13.jpg  \n",
            "  inflating: chest-xray-pneumonia/covid-normal-pneumonia/train/covid/extubation-4.jpg  \n",
            "  inflating: chest-xray-pneumonia/covid-normal-pneumonia/train/covid/figure1-5e71be566aa8714a04de3386-98-left.jpeg  \n",
            "  inflating: chest-xray-pneumonia/covid-normal-pneumonia/train/covid/figure1-5e75d0940b71e1b702629659-98-right.jpeg  \n",
            "  inflating: chest-xray-pneumonia/covid-normal-pneumonia/train/covid/gr1_lrg-a.jpg  \n",
            "  inflating: chest-xray-pneumonia/covid-normal-pneumonia/train/covid/nejmoa2001191_f3-PA.jpeg  \n",
            "  inflating: chest-xray-pneumonia/covid-normal-pneumonia/train/covid/radiol.2020200490.fig3.jpeg  \n",
            "  inflating: chest-xray-pneumonia/covid-normal-pneumonia/train/covid/ryct.2020200034.fig2.jpeg  \n",
            "  inflating: chest-xray-pneumonia/covid-normal-pneumonia/train/covid/ryct.2020200034.fig5-day4.jpeg  \n",
            "  inflating: chest-xray-pneumonia/covid-normal-pneumonia/train/normal/IM-0115-0001.jpeg  \n",
            "  inflating: chest-xray-pneumonia/covid-normal-pneumonia/train/normal/IM-0117-0001.jpeg  \n",
            "  inflating: chest-xray-pneumonia/covid-normal-pneumonia/train/normal/IM-0119-0001.jpeg  \n",
            "  inflating: chest-xray-pneumonia/covid-normal-pneumonia/train/normal/IM-0122-0001.jpeg  \n",
            "  inflating: chest-xray-pneumonia/covid-normal-pneumonia/train/normal/IM-0125-0001.jpeg  \n",
            "  inflating: chest-xray-pneumonia/covid-normal-pneumonia/train/normal/IM-0127-0001.jpeg  \n",
            "  inflating: chest-xray-pneumonia/covid-normal-pneumonia/train/normal/IM-0128-0001.jpeg  \n",
            "  inflating: chest-xray-pneumonia/covid-normal-pneumonia/train/normal/IM-0129-0001.jpeg  \n",
            "  inflating: chest-xray-pneumonia/covid-normal-pneumonia/train/normal/IM-0131-0001.jpeg  \n",
            "  inflating: chest-xray-pneumonia/covid-normal-pneumonia/train/normal/IM-0133-0001.jpeg  \n",
            "  inflating: chest-xray-pneumonia/covid-normal-pneumonia/train/normal/IM-0135-0001.jpeg  \n",
            "  inflating: chest-xray-pneumonia/covid-normal-pneumonia/train/normal/IM-0137-0001.jpeg  \n",
            "  inflating: chest-xray-pneumonia/covid-normal-pneumonia/train/normal/IM-0140-0001.jpeg  \n",
            "  inflating: chest-xray-pneumonia/covid-normal-pneumonia/train/normal/IM-0141-0001.jpeg  \n",
            "  inflating: chest-xray-pneumonia/covid-normal-pneumonia/train/normal/IM-0143-0001.jpeg  \n",
            "  inflating: chest-xray-pneumonia/covid-normal-pneumonia/train/normal/IM-0145-0001.jpeg  \n",
            "  inflating: chest-xray-pneumonia/covid-normal-pneumonia/train/normal/IM-0147-0001.jpeg  \n",
            "  inflating: chest-xray-pneumonia/covid-normal-pneumonia/train/normal/IM-0149-0001.jpeg  \n",
            "  inflating: chest-xray-pneumonia/covid-normal-pneumonia/train/normal/IM-0151-0001.jpeg  \n",
            "  inflating: chest-xray-pneumonia/covid-normal-pneumonia/train/normal/IM-0152-0001.jpeg  \n",
            "  inflating: chest-xray-pneumonia/covid-normal-pneumonia/train/normal/IM-0154-0001.jpeg  \n",
            "  inflating: chest-xray-pneumonia/covid-normal-pneumonia/train/normal/IM-0156-0001.jpeg  \n",
            "  inflating: chest-xray-pneumonia/covid-normal-pneumonia/train/normal/IM-0158-0001.jpeg  \n",
            "  inflating: chest-xray-pneumonia/covid-normal-pneumonia/train/normal/IM-0160-0001.jpeg  \n",
            "  inflating: chest-xray-pneumonia/covid-normal-pneumonia/train/normal/IM-0162-0001.jpeg  \n",
            "  inflating: chest-xray-pneumonia/covid-normal-pneumonia/train/normal/IM-0164-0001.jpeg  \n",
            "  inflating: chest-xray-pneumonia/covid-normal-pneumonia/train/normal/IM-0166-0001.jpeg  \n",
            "  inflating: chest-xray-pneumonia/covid-normal-pneumonia/train/normal/IM-0168-0001.jpeg  \n",
            "  inflating: chest-xray-pneumonia/covid-normal-pneumonia/train/normal/IM-0170-0001.jpeg  \n",
            "  inflating: chest-xray-pneumonia/covid-normal-pneumonia/train/normal/IM-0172-0001.jpeg  \n",
            "  inflating: chest-xray-pneumonia/covid-normal-pneumonia/train/normal/IM-0176-0001.jpeg  \n",
            "  inflating: chest-xray-pneumonia/covid-normal-pneumonia/train/normal/IM-0177-0001.jpeg  \n",
            "  inflating: chest-xray-pneumonia/covid-normal-pneumonia/train/normal/IM-0178-0001.jpeg  \n",
            "  inflating: chest-xray-pneumonia/covid-normal-pneumonia/train/normal/IM-0180-0001.jpeg  \n",
            "  inflating: chest-xray-pneumonia/covid-normal-pneumonia/train/normal/IM-0182-0001.jpeg  \n",
            "  inflating: chest-xray-pneumonia/covid-normal-pneumonia/train/normal/IM-0183-0001.jpeg  \n",
            "  inflating: chest-xray-pneumonia/covid-normal-pneumonia/train/normal/IM-0185-0001.jpeg  \n",
            "  inflating: chest-xray-pneumonia/covid-normal-pneumonia/train/normal/IM-0187-0001.jpeg  \n",
            "  inflating: chest-xray-pneumonia/covid-normal-pneumonia/train/normal/IM-0189-0001.jpeg  \n",
            "  inflating: chest-xray-pneumonia/covid-normal-pneumonia/train/normal/IM-0191-0001.jpeg  \n",
            "  inflating: chest-xray-pneumonia/covid-normal-pneumonia/train/normal/IM-0193-0001.jpeg  \n",
            "  inflating: chest-xray-pneumonia/covid-normal-pneumonia/train/normal/IM-0195-0001.jpeg  \n",
            "  inflating: chest-xray-pneumonia/covid-normal-pneumonia/train/normal/IM-0199-0001.jpeg  \n",
            "  inflating: chest-xray-pneumonia/covid-normal-pneumonia/train/normal/IM-0201-0001.jpeg  \n",
            "  inflating: chest-xray-pneumonia/covid-normal-pneumonia/train/normal/IM-0203-0001.jpeg  \n",
            "  inflating: chest-xray-pneumonia/covid-normal-pneumonia/train/normal/IM-0205-0001.jpeg  \n",
            "  inflating: chest-xray-pneumonia/covid-normal-pneumonia/train/normal/IM-0206-0001.jpeg  \n",
            "  inflating: chest-xray-pneumonia/covid-normal-pneumonia/train/normal/IM-0207-0001.jpeg  \n",
            "  inflating: chest-xray-pneumonia/covid-normal-pneumonia/train/normal/IM-0209-0001.jpeg  \n",
            "  inflating: chest-xray-pneumonia/covid-normal-pneumonia/train/normal/IM-0210-0001.jpeg  \n",
            "  inflating: chest-xray-pneumonia/covid-normal-pneumonia/train/normal/IM-0211-0001.jpeg  \n",
            "  inflating: chest-xray-pneumonia/covid-normal-pneumonia/train/normal/IM-0213-0001.jpeg  \n",
            "  inflating: chest-xray-pneumonia/covid-normal-pneumonia/train/normal/IM-0214-0001.jpeg  \n",
            "  inflating: chest-xray-pneumonia/covid-normal-pneumonia/train/normal/IM-0215-0001.jpeg  \n",
            "  inflating: chest-xray-pneumonia/covid-normal-pneumonia/train/normal/IM-0216-0001.jpeg  \n",
            "  inflating: chest-xray-pneumonia/covid-normal-pneumonia/train/normal/IM-0217-0001.jpeg  \n",
            "  inflating: chest-xray-pneumonia/covid-normal-pneumonia/train/normal/IM-0218-0001.jpeg  \n",
            "  inflating: chest-xray-pneumonia/covid-normal-pneumonia/train/normal/IM-0219-0001.jpeg  \n",
            "  inflating: chest-xray-pneumonia/covid-normal-pneumonia/train/normal/IM-0220-0001.jpeg  \n",
            "  inflating: chest-xray-pneumonia/covid-normal-pneumonia/train/normal/IM-0221-0001.jpeg  \n",
            "  inflating: chest-xray-pneumonia/covid-normal-pneumonia/train/normal/IM-0222-0001.jpeg  \n",
            "  inflating: chest-xray-pneumonia/covid-normal-pneumonia/train/normal/IM-0223-0001.jpeg  \n",
            "  inflating: chest-xray-pneumonia/covid-normal-pneumonia/train/normal/IM-0224-0001.jpeg  \n",
            "  inflating: chest-xray-pneumonia/covid-normal-pneumonia/train/normal/IM-0225-0001.jpeg  \n",
            "  inflating: chest-xray-pneumonia/covid-normal-pneumonia/train/normal/IM-0226-0001.jpeg  \n",
            "  inflating: chest-xray-pneumonia/covid-normal-pneumonia/train/normal/IM-0227-0001.jpeg  \n",
            "  inflating: chest-xray-pneumonia/covid-normal-pneumonia/train/normal/IM-0228-0001.jpeg  \n",
            "  inflating: chest-xray-pneumonia/covid-normal-pneumonia/train/normal/IM-0229-0001.jpeg  \n",
            "  inflating: chest-xray-pneumonia/covid-normal-pneumonia/train/normal/IM-0230-0001.jpeg  \n",
            "  inflating: chest-xray-pneumonia/covid-normal-pneumonia/train/normal/IM-0231-0001.jpeg  \n",
            "  inflating: chest-xray-pneumonia/covid-normal-pneumonia/train/normal/IM-0234-0001.jpeg  \n",
            "  inflating: chest-xray-pneumonia/covid-normal-pneumonia/train/normal/IM-0235-0001.jpeg  \n",
            "  inflating: chest-xray-pneumonia/covid-normal-pneumonia/train/normal/IM-0236-0001.jpeg  \n",
            "  inflating: chest-xray-pneumonia/covid-normal-pneumonia/train/normal/IM-0237-0001.jpeg  \n",
            "  inflating: chest-xray-pneumonia/covid-normal-pneumonia/train/normal/IM-0238-0001.jpeg  \n",
            "  inflating: chest-xray-pneumonia/covid-normal-pneumonia/train/normal/IM-0239-0001.jpeg  \n",
            "  inflating: chest-xray-pneumonia/covid-normal-pneumonia/train/normal/IM-0240-0001.jpeg  \n",
            "  inflating: chest-xray-pneumonia/covid-normal-pneumonia/train/normal/IM-0241-0001.jpeg  \n",
            "  inflating: chest-xray-pneumonia/covid-normal-pneumonia/train/normal/IM-0242-0001.jpeg  \n",
            "  inflating: chest-xray-pneumonia/covid-normal-pneumonia/train/normal/IM-0243-0001.jpeg  \n",
            "  inflating: chest-xray-pneumonia/covid-normal-pneumonia/train/normal/IM-0244-0001.jpeg  \n",
            "  inflating: chest-xray-pneumonia/covid-normal-pneumonia/train/normal/IM-0245-0001.jpeg  \n",
            "  inflating: chest-xray-pneumonia/covid-normal-pneumonia/train/normal/IM-0248-0001.jpeg  \n",
            "  inflating: chest-xray-pneumonia/covid-normal-pneumonia/train/normal/IM-0249-0001.jpeg  \n",
            "  inflating: chest-xray-pneumonia/covid-normal-pneumonia/train/normal/IM-0250-0001.jpeg  \n",
            "  inflating: chest-xray-pneumonia/covid-normal-pneumonia/train/normal/IM-0251-0001.jpeg  \n",
            "  inflating: chest-xray-pneumonia/covid-normal-pneumonia/train/normal/IM-0253-0001.jpeg  \n",
            "  inflating: chest-xray-pneumonia/covid-normal-pneumonia/train/normal/IM-0255-0001.jpeg  \n",
            "  inflating: chest-xray-pneumonia/covid-normal-pneumonia/train/normal/IM-0256-0001.jpeg  \n",
            "  inflating: chest-xray-pneumonia/covid-normal-pneumonia/train/normal/IM-0257-0001.jpeg  \n",
            "  inflating: chest-xray-pneumonia/covid-normal-pneumonia/train/normal/IM-0261-0001.jpeg  \n",
            "  inflating: chest-xray-pneumonia/covid-normal-pneumonia/train/normal/IM-0262-0001.jpeg  \n",
            "  inflating: chest-xray-pneumonia/covid-normal-pneumonia/train/normal/IM-0264-0001.jpeg  \n",
            "  inflating: chest-xray-pneumonia/covid-normal-pneumonia/train/normal/IM-0265-0001.jpeg  \n",
            "  inflating: chest-xray-pneumonia/covid-normal-pneumonia/train/normal/IM-0266-0001.jpeg  \n",
            "  inflating: chest-xray-pneumonia/covid-normal-pneumonia/train/normal/IM-0268-0001.jpeg  \n",
            "  inflating: chest-xray-pneumonia/covid-normal-pneumonia/train/normal/IM-0269-0001.jpeg  \n",
            "  inflating: chest-xray-pneumonia/covid-normal-pneumonia/train/normal/IM-0270-0001.jpeg  \n",
            "  inflating: chest-xray-pneumonia/covid-normal-pneumonia/train/normal/IM-0272-0001.jpeg  \n",
            "  inflating: chest-xray-pneumonia/covid-normal-pneumonia/train/normal/IM-0273-0001.jpeg  \n",
            "  inflating: chest-xray-pneumonia/covid-normal-pneumonia/train/normal/IM-0274-0001.jpeg  \n",
            "  inflating: chest-xray-pneumonia/covid-normal-pneumonia/train/normal/IM-0275-0001.jpeg  \n",
            "  inflating: chest-xray-pneumonia/covid-normal-pneumonia/train/normal/IM-0276-0001.jpeg  \n",
            "  inflating: chest-xray-pneumonia/covid-normal-pneumonia/train/normal/IM-0277-0001.jpeg  \n",
            "  inflating: chest-xray-pneumonia/covid-normal-pneumonia/train/normal/IM-0278-0001.jpeg  \n",
            "  inflating: chest-xray-pneumonia/covid-normal-pneumonia/train/normal/IM-0279-0001.jpeg  \n",
            "  inflating: chest-xray-pneumonia/covid-normal-pneumonia/train/normal/IM-0280-0001.jpeg  \n",
            "  inflating: chest-xray-pneumonia/covid-normal-pneumonia/train/normal/IM-0282-0001.jpeg  \n",
            "  inflating: chest-xray-pneumonia/covid-normal-pneumonia/train/normal/IM-0283-0001.jpeg  \n",
            "  inflating: chest-xray-pneumonia/covid-normal-pneumonia/train/normal/IM-0285-0001.jpeg  \n",
            "  inflating: chest-xray-pneumonia/covid-normal-pneumonia/train/normal/IM-0286-0001.jpeg  \n",
            "  inflating: chest-xray-pneumonia/covid-normal-pneumonia/train/normal/IM-0288-0001.jpeg  \n",
            "  inflating: chest-xray-pneumonia/covid-normal-pneumonia/train/normal/IM-0289-0001.jpeg  \n",
            "  inflating: chest-xray-pneumonia/covid-normal-pneumonia/train/normal/IM-0290-0001.jpeg  \n",
            "  inflating: chest-xray-pneumonia/covid-normal-pneumonia/train/normal/IM-0291-0001.jpeg  \n",
            "  inflating: chest-xray-pneumonia/covid-normal-pneumonia/train/normal/IM-0292-0001.jpeg  \n",
            "  inflating: chest-xray-pneumonia/covid-normal-pneumonia/train/normal/IM-0293-0001.jpeg  \n",
            "  inflating: chest-xray-pneumonia/covid-normal-pneumonia/train/normal/IM-0294-0001.jpeg  \n",
            "  inflating: chest-xray-pneumonia/covid-normal-pneumonia/train/normal/IM-0295-0001.jpeg  \n",
            "  inflating: chest-xray-pneumonia/covid-normal-pneumonia/train/viral/person1_virus_12.jpeg  \n",
            "  inflating: chest-xray-pneumonia/covid-normal-pneumonia/train/viral/person730_virus_1351.jpeg  \n",
            "  inflating: chest-xray-pneumonia/covid-normal-pneumonia/train/viral/person731_virus_1352.jpeg  \n",
            "  inflating: chest-xray-pneumonia/covid-normal-pneumonia/train/viral/person732_virus_1353.jpeg  \n",
            "  inflating: chest-xray-pneumonia/covid-normal-pneumonia/train/viral/person734_virus_1355.jpeg  \n",
            "  inflating: chest-xray-pneumonia/covid-normal-pneumonia/train/viral/person735_virus_1356.jpeg  \n",
            "  inflating: chest-xray-pneumonia/covid-normal-pneumonia/train/viral/person736_virus_1358.jpeg  \n",
            "  inflating: chest-xray-pneumonia/covid-normal-pneumonia/train/viral/person738_virus_1360.jpeg  \n",
            "  inflating: chest-xray-pneumonia/covid-normal-pneumonia/train/viral/person739_virus_1361.jpeg  \n",
            "  inflating: chest-xray-pneumonia/covid-normal-pneumonia/train/viral/person740_virus_1362.jpeg  \n",
            "  inflating: chest-xray-pneumonia/covid-normal-pneumonia/train/viral/person740_virus_1363.jpeg  \n",
            "  inflating: chest-xray-pneumonia/covid-normal-pneumonia/train/viral/person741_virus_1364.jpeg  \n",
            "  inflating: chest-xray-pneumonia/covid-normal-pneumonia/train/viral/person742_virus_1365.jpeg  \n",
            "  inflating: chest-xray-pneumonia/covid-normal-pneumonia/train/viral/person743_virus_1366.jpeg  \n",
            "  inflating: chest-xray-pneumonia/covid-normal-pneumonia/train/viral/person744_virus_1367.jpeg  \n",
            "  inflating: chest-xray-pneumonia/covid-normal-pneumonia/train/viral/person745_virus_1368.jpeg  \n",
            "  inflating: chest-xray-pneumonia/covid-normal-pneumonia/train/viral/person746_virus_1369.jpeg  \n",
            "  inflating: chest-xray-pneumonia/covid-normal-pneumonia/train/viral/person747_virus_1370.jpeg  \n",
            "  inflating: chest-xray-pneumonia/covid-normal-pneumonia/train/viral/person747_virus_1372.jpeg  \n",
            "  inflating: chest-xray-pneumonia/covid-normal-pneumonia/train/viral/person748_virus_1373.jpeg  \n",
            "  inflating: chest-xray-pneumonia/covid-normal-pneumonia/train/viral/person749_virus_1374.jpeg  \n",
            "  inflating: chest-xray-pneumonia/covid-normal-pneumonia/train/viral/person752_virus_1377.jpeg  \n",
            "  inflating: chest-xray-pneumonia/covid-normal-pneumonia/train/viral/person753_virus_1378.jpeg  \n",
            "  inflating: chest-xray-pneumonia/covid-normal-pneumonia/train/viral/person754_virus_1379.jpeg  \n",
            "  inflating: chest-xray-pneumonia/covid-normal-pneumonia/train/viral/person755_virus_1380.jpeg  \n",
            "  inflating: chest-xray-pneumonia/covid-normal-pneumonia/train/viral/person755_virus_1382.jpeg  \n",
            "  inflating: chest-xray-pneumonia/covid-normal-pneumonia/train/viral/person757_virus_1385.jpeg  \n",
            "  inflating: chest-xray-pneumonia/covid-normal-pneumonia/train/viral/person759_virus_1387.jpeg  \n",
            "  inflating: chest-xray-pneumonia/covid-normal-pneumonia/train/viral/person760_virus_1388.jpeg  \n",
            "  inflating: chest-xray-pneumonia/covid-normal-pneumonia/train/viral/person761_virus_1389.jpeg  \n",
            "  inflating: chest-xray-pneumonia/covid-normal-pneumonia/train/viral/person762_virus_1390.jpeg  \n",
            "  inflating: chest-xray-pneumonia/covid-normal-pneumonia/train/viral/person763_virus_1391.jpeg  \n",
            "  inflating: chest-xray-pneumonia/covid-normal-pneumonia/train/viral/person764_virus_1392.jpeg  \n",
            "  inflating: chest-xray-pneumonia/covid-normal-pneumonia/train/viral/person81_virus_152.jpeg  \n",
            "  inflating: chest-xray-pneumonia/covid-normal-pneumonia/train/viral/person83_virus_156.jpeg  \n",
            "  inflating: chest-xray-pneumonia/covid-normal-pneumonia/train/viral/person84_virus_157.jpeg  \n",
            "  inflating: chest-xray-pneumonia/covid-normal-pneumonia/train/viral/person86_virus_159.jpeg  \n",
            "  inflating: chest-xray-pneumonia/covid-normal-pneumonia/train/viral/person87_virus_160.jpeg  \n",
            "  inflating: chest-xray-pneumonia/covid-normal-pneumonia/train/viral/person88_virus_161.jpeg  \n",
            "  inflating: chest-xray-pneumonia/covid-normal-pneumonia/train/viral/person88_virus_163.jpeg  \n",
            "  inflating: chest-xray-pneumonia/covid-normal-pneumonia/train/viral/person88_virus_164.jpeg  \n",
            "  inflating: chest-xray-pneumonia/covid-normal-pneumonia/train/viral/person88_virus_165.jpeg  \n",
            "  inflating: chest-xray-pneumonia/covid-normal-pneumonia/train/viral/person88_virus_166.jpeg  \n",
            "  inflating: chest-xray-pneumonia/covid-normal-pneumonia/train/viral/person88_virus_167.jpeg  \n",
            "  inflating: chest-xray-pneumonia/covid-normal-pneumonia/train/viral/person890_virus_1540.jpeg  \n",
            "  inflating: chest-xray-pneumonia/covid-normal-pneumonia/train/viral/person891_virus_1541.jpeg  \n",
            "  inflating: chest-xray-pneumonia/covid-normal-pneumonia/train/viral/person894_virus_1546.jpeg  \n",
            "  inflating: chest-xray-pneumonia/covid-normal-pneumonia/train/viral/person895_virus_1547.jpeg  \n",
            "  inflating: chest-xray-pneumonia/covid-normal-pneumonia/train/viral/person896_virus_1548.jpeg  \n",
            "  inflating: chest-xray-pneumonia/covid-normal-pneumonia/train/viral/person898_virus_1552.jpeg  \n",
            "  inflating: chest-xray-pneumonia/covid-normal-pneumonia/train/viral/person899_virus_1553.jpeg  \n",
            "  inflating: chest-xray-pneumonia/covid-normal-pneumonia/train/viral/person89_virus_168.jpeg  \n",
            "  inflating: chest-xray-pneumonia/covid-normal-pneumonia/train/viral/person900_virus_1554.jpeg  \n",
            "  inflating: chest-xray-pneumonia/covid-normal-pneumonia/train/viral/person901_virus_1555.jpeg  \n",
            "  inflating: chest-xray-pneumonia/covid-normal-pneumonia/train/viral/person905_virus_1561.jpeg  \n",
            "  inflating: chest-xray-pneumonia/covid-normal-pneumonia/train/viral/person906_virus_1562.jpeg  \n",
            "  inflating: chest-xray-pneumonia/covid-normal-pneumonia/train/viral/person907_virus_1563.jpeg  \n",
            "  inflating: chest-xray-pneumonia/covid-normal-pneumonia/train/viral/person908_virus_1564.jpeg  \n",
            "  inflating: chest-xray-pneumonia/covid-normal-pneumonia/train/viral/person909_virus_1565.jpeg  \n",
            "  inflating: chest-xray-pneumonia/covid-normal-pneumonia/train/viral/person90_virus_169.jpeg  \n",
            "  inflating: chest-xray-pneumonia/covid-normal-pneumonia/train/viral/person90_virus_170.jpeg  \n",
            "  inflating: chest-xray-pneumonia/covid-normal-pneumonia/train/viral/person911_virus_1567.jpeg  \n",
            "  inflating: chest-xray-pneumonia/covid-normal-pneumonia/train/viral/person913_virus_1570.jpeg  \n",
            "  inflating: chest-xray-pneumonia/covid-normal-pneumonia/train/viral/person914_virus_1571.jpeg  \n",
            "  inflating: chest-xray-pneumonia/covid-normal-pneumonia/train/viral/person915_virus_1572.jpeg  \n",
            "  inflating: chest-xray-pneumonia/covid-normal-pneumonia/train/viral/person918_virus_1575.jpeg  \n",
            "  inflating: chest-xray-pneumonia/covid-normal-pneumonia/train/viral/person919_virus_1576.jpeg  \n",
            "  inflating: chest-xray-pneumonia/covid-normal-pneumonia/train/viral/person920_virus_1577.jpeg  \n",
            "  inflating: chest-xray-pneumonia/covid-normal-pneumonia/train/viral/person921_virus_1578.jpeg  \n",
            "  inflating: chest-xray-pneumonia/covid-normal-pneumonia/train/viral/person924_virus_1581.jpeg  \n",
            "  inflating: chest-xray-pneumonia/covid-normal-pneumonia/train/viral/person925_virus_1582.jpeg  \n",
            "  inflating: chest-xray-pneumonia/covid-normal-pneumonia/train/viral/person926_virus_1583.jpeg  \n",
            "  inflating: chest-xray-pneumonia/covid-normal-pneumonia/train/viral/person927_virus_1584.jpeg  \n",
            "  inflating: chest-xray-pneumonia/covid-normal-pneumonia/train/viral/person928_virus_1586.jpeg  \n",
            "  inflating: chest-xray-pneumonia/covid-normal-pneumonia/train/viral/person929_virus_1588.jpeg  \n",
            "  inflating: chest-xray-pneumonia/covid-normal-pneumonia/train/viral/person929_virus_1589.jpeg  \n",
            "  inflating: chest-xray-pneumonia/covid-normal-pneumonia/train/viral/person92_virus_174.jpeg  \n",
            "  inflating: chest-xray-pneumonia/covid-normal-pneumonia/train/viral/person931_virus_1592.jpeg  \n",
            "  inflating: chest-xray-pneumonia/covid-normal-pneumonia/train/viral/person932_virus_1593.jpeg  \n",
            "  inflating: chest-xray-pneumonia/covid-normal-pneumonia/train/viral/person933_virus_1594.jpeg  \n",
            "  inflating: chest-xray-pneumonia/covid-normal-pneumonia/train/viral/person934_virus_1595.jpeg  \n",
            "  inflating: chest-xray-pneumonia/covid-normal-pneumonia/train/viral/person935_virus_1597.jpeg  \n",
            "  inflating: chest-xray-pneumonia/covid-normal-pneumonia/train/viral/person936_virus_1598.jpeg  \n",
            "  inflating: chest-xray-pneumonia/covid-normal-pneumonia/train/viral/person937_virus_1599.jpeg  \n",
            "  inflating: chest-xray-pneumonia/covid-normal-pneumonia/train/viral/person938_virus_1600.jpeg  \n",
            "  inflating: chest-xray-pneumonia/covid-normal-pneumonia/train/viral/person93_virus_175.jpeg  \n",
            "  inflating: chest-xray-pneumonia/covid-normal-pneumonia/train/viral/person940_virus_1602.jpeg  \n",
            "  inflating: chest-xray-pneumonia/covid-normal-pneumonia/train/viral/person940_virus_1604.jpeg  \n",
            "  inflating: chest-xray-pneumonia/covid-normal-pneumonia/train/viral/person940_virus_1605.jpeg  \n",
            "  inflating: chest-xray-pneumonia/covid-normal-pneumonia/train/viral/person940_virus_1607.jpeg  \n",
            "  inflating: chest-xray-pneumonia/covid-normal-pneumonia/train/viral/person940_virus_1609.jpeg  \n",
            "  inflating: chest-xray-pneumonia/covid-normal-pneumonia/train/viral/person941_virus_1610.jpeg  \n",
            "  inflating: chest-xray-pneumonia/covid-normal-pneumonia/train/viral/person942_virus_1611.jpeg  \n",
            "  inflating: chest-xray-pneumonia/covid-normal-pneumonia/train/viral/person945_virus_1616.jpeg  \n",
            "  inflating: chest-xray-pneumonia/covid-normal-pneumonia/train/viral/person947_virus_1618.jpeg  \n",
            "  inflating: chest-xray-pneumonia/covid-normal-pneumonia/train/viral/person949_virus_1620.jpeg  \n",
            "  inflating: chest-xray-pneumonia/covid-normal-pneumonia/train/viral/person94_virus_176.jpeg  \n",
            "  inflating: chest-xray-pneumonia/covid-normal-pneumonia/train/viral/person950_virus_1621.jpeg  \n",
            "  inflating: chest-xray-pneumonia/covid-normal-pneumonia/train/viral/person951_virus_1622.jpeg  \n",
            "  inflating: chest-xray-pneumonia/covid-normal-pneumonia/train/viral/person952_virus_1623.jpeg  \n",
            "  inflating: chest-xray-pneumonia/covid-normal-pneumonia/train/viral/person954_virus_1626.jpeg  \n",
            "  inflating: chest-xray-pneumonia/covid-normal-pneumonia/train/viral/person958_virus_1630.jpeg  \n",
            "  inflating: chest-xray-pneumonia/covid-normal-pneumonia/train/viral/person95_virus_177.jpeg  \n",
            "  inflating: chest-xray-pneumonia/covid-normal-pneumonia/train/viral/person960_virus_1633.jpeg  \n",
            "  inflating: chest-xray-pneumonia/covid-normal-pneumonia/train/viral/person961_virus_1634.jpeg  \n",
            "  inflating: chest-xray-pneumonia/covid-normal-pneumonia/train/viral/person962_virus_1635.jpeg  \n",
            "  inflating: chest-xray-pneumonia/covid-normal-pneumonia/train/viral/person963_virus_1636.jpeg  \n",
            "  inflating: chest-xray-pneumonia/covid-normal-pneumonia/train/viral/person964_virus_1637.jpeg  \n",
            "  inflating: chest-xray-pneumonia/covid-normal-pneumonia/train/viral/person965_virus_1638.jpeg  \n",
            "  inflating: chest-xray-pneumonia/covid-normal-pneumonia/train/viral/person96_virus_178.jpeg  \n",
            "  inflating: chest-xray-pneumonia/covid-normal-pneumonia/train/viral/person96_virus_179.jpeg  \n",
            "  inflating: chest-xray-pneumonia/covid-normal-pneumonia/train/viral/person970_virus_1644.jpeg  \n",
            "  inflating: chest-xray-pneumonia/covid-normal-pneumonia/train/viral/person972_virus_1646.jpeg  \n",
            "  inflating: chest-xray-pneumonia/covid-normal-pneumonia/train/viral/person97_virus_180.jpeg  \n",
            "  inflating: chest-xray-pneumonia/covid-normal-pneumonia/train/viral/person97_virus_181.jpeg  \n",
            "  inflating: chest-xray-pneumonia/covid-normal-pneumonia/train/viral/person982_virus_1658.jpeg  \n",
            "  inflating: chest-xray-pneumonia/covid-normal-pneumonia/train/viral/person983_virus_1660.jpeg  \n",
            "  inflating: chest-xray-pneumonia/covid-normal-pneumonia/train/viral/person98_virus_182.jpeg  \n",
            "  inflating: chest-xray-pneumonia/covid-normal-pneumonia/train/viral/person994_virus_1672.jpeg  \n",
            "  inflating: chest-xray-pneumonia/covid-normal-pneumonia/train/viral/person99_virus_183.jpeg  \n",
            "  inflating: chest-xray-pneumonia/covid-normal-pneumonia/val/bacterial/person28_bacteria_142.jpeg  \n",
            "  inflating: chest-xray-pneumonia/covid-normal-pneumonia/val/bacterial/person28_bacteria_143.jpeg  \n",
            "  inflating: chest-xray-pneumonia/covid-normal-pneumonia/val/bacterial/person29_bacteria_144.jpeg  \n",
            "  inflating: chest-xray-pneumonia/covid-normal-pneumonia/val/bacterial/person30_bacteria_145.jpeg  \n",
            "  inflating: chest-xray-pneumonia/covid-normal-pneumonia/val/bacterial/person30_bacteria_146.jpeg  \n",
            "  inflating: chest-xray-pneumonia/covid-normal-pneumonia/val/bacterial/person30_bacteria_147.jpeg  \n",
            "  inflating: chest-xray-pneumonia/covid-normal-pneumonia/val/bacterial/person30_bacteria_148.jpeg  \n",
            "  inflating: chest-xray-pneumonia/covid-normal-pneumonia/val/bacterial/person30_bacteria_153.jpeg  \n",
            "  inflating: chest-xray-pneumonia/covid-normal-pneumonia/val/bacterial/person30_bacteria_154.jpeg  \n",
            "  inflating: chest-xray-pneumonia/covid-normal-pneumonia/val/bacterial/person31_bacteria_161.jpeg  \n",
            "  inflating: chest-xray-pneumonia/covid-normal-pneumonia/val/bacterial/person31_bacteria_162.jpeg  \n",
            "  inflating: chest-xray-pneumonia/covid-normal-pneumonia/val/bacterial/person31_bacteria_163.jpeg  \n",
            "  inflating: chest-xray-pneumonia/covid-normal-pneumonia/val/bacterial/person31_bacteria_164.jpeg  \n",
            "  inflating: chest-xray-pneumonia/covid-normal-pneumonia/val/bacterial/person32_bacteria_165.jpeg  \n",
            "  inflating: chest-xray-pneumonia/covid-normal-pneumonia/val/covid/extubation-8.jpg  \n",
            "  inflating: chest-xray-pneumonia/covid-normal-pneumonia/val/covid/fff49165-b22d-4bb4-b9d1-d5d62c52436c.annot.original.png  \n",
            "  inflating: chest-xray-pneumonia/covid-normal-pneumonia/val/covid/gr1_lrg-b.jpg  \n",
            "  inflating: chest-xray-pneumonia/covid-normal-pneumonia/val/covid/kjr-21-e24-g001-l-a.jpg  \n",
            "  inflating: chest-xray-pneumonia/covid-normal-pneumonia/val/covid/kjr-21-e24-g002-l-a.jpg  \n",
            "  inflating: chest-xray-pneumonia/covid-normal-pneumonia/val/covid/kjr-21-e24-g003-l-a.jpg  \n",
            "  inflating: chest-xray-pneumonia/covid-normal-pneumonia/val/covid/kjr-21-e25-g001-l-a.jpg  \n",
            "  inflating: chest-xray-pneumonia/covid-normal-pneumonia/val/covid/lancet-case2a.jpg  \n",
            "  inflating: chest-xray-pneumonia/covid-normal-pneumonia/val/covid/lancet-case2b.jpg  \n",
            "  inflating: chest-xray-pneumonia/covid-normal-pneumonia/val/covid/nCoV-radiol.2020200269.fig1-day7.jpeg  \n",
            "  inflating: chest-xray-pneumonia/covid-normal-pneumonia/val/covid/nejmc2001573_f1a.jpeg  \n",
            "  inflating: chest-xray-pneumonia/covid-normal-pneumonia/val/covid/nejmoa2001191_f1-PA.jpeg  \n",
            "  inflating: chest-xray-pneumonia/covid-normal-pneumonia/val/covid/ryct.2020200028.fig1a.jpeg  \n",
            "  inflating: chest-xray-pneumonia/covid-normal-pneumonia/val/covid/ryct.2020200034.fig5-day0.jpeg  \n",
            "  inflating: chest-xray-pneumonia/covid-normal-pneumonia/val/normal/IM-0297-0001.jpeg  \n",
            "  inflating: chest-xray-pneumonia/covid-normal-pneumonia/val/normal/IM-0298-0001.jpeg  \n",
            "  inflating: chest-xray-pneumonia/covid-normal-pneumonia/val/normal/IM-0299-0001.jpeg  \n",
            "  inflating: chest-xray-pneumonia/covid-normal-pneumonia/val/normal/IM-0300-0001.jpeg  \n",
            "  inflating: chest-xray-pneumonia/covid-normal-pneumonia/val/normal/IM-0301-0001.jpeg  \n",
            "  inflating: chest-xray-pneumonia/covid-normal-pneumonia/val/normal/IM-0302-0001.jpeg  \n",
            "  inflating: chest-xray-pneumonia/covid-normal-pneumonia/val/normal/IM-0303-0001.jpeg  \n",
            "  inflating: chest-xray-pneumonia/covid-normal-pneumonia/val/normal/IM-0304-0001.jpeg  \n",
            "  inflating: chest-xray-pneumonia/covid-normal-pneumonia/val/normal/IM-0305-0001.jpeg  \n",
            "  inflating: chest-xray-pneumonia/covid-normal-pneumonia/val/normal/IM-0306-0001.jpeg  \n",
            "  inflating: chest-xray-pneumonia/covid-normal-pneumonia/val/normal/IM-0307-0001.jpeg  \n",
            "  inflating: chest-xray-pneumonia/covid-normal-pneumonia/val/normal/IM-0308-0001.jpeg  \n",
            "  inflating: chest-xray-pneumonia/covid-normal-pneumonia/val/normal/IM-0309-0001.jpeg  \n",
            "  inflating: chest-xray-pneumonia/covid-normal-pneumonia/val/normal/IM-0311-0001.jpeg  \n",
            "  inflating: chest-xray-pneumonia/covid-normal-pneumonia/val/viral/person973_virus_1647.jpeg  \n",
            "  inflating: chest-xray-pneumonia/covid-normal-pneumonia/val/viral/person974_virus_1649.jpeg  \n",
            "  inflating: chest-xray-pneumonia/covid-normal-pneumonia/val/viral/person975_virus_1650.jpeg  \n",
            "  inflating: chest-xray-pneumonia/covid-normal-pneumonia/val/viral/person976_virus_1651.jpeg  \n",
            "  inflating: chest-xray-pneumonia/covid-normal-pneumonia/val/viral/person977_virus_1652.jpeg  \n",
            "  inflating: chest-xray-pneumonia/covid-normal-pneumonia/val/viral/person978_virus_1653.jpeg  \n",
            "  inflating: chest-xray-pneumonia/covid-normal-pneumonia/val/viral/person979_virus_1654.jpeg  \n",
            "  inflating: chest-xray-pneumonia/covid-normal-pneumonia/val/viral/person980_virus_1655.jpeg  \n",
            "  inflating: chest-xray-pneumonia/covid-normal-pneumonia/val/viral/person981_virus_1657.jpeg  \n",
            "  inflating: chest-xray-pneumonia/covid-normal-pneumonia/val/viral/person988_virus_1666.jpeg  \n",
            "  inflating: chest-xray-pneumonia/covid-normal-pneumonia/val/viral/person989_virus_1667.jpeg  \n",
            "  inflating: chest-xray-pneumonia/covid-normal-pneumonia/val/viral/person991_virus_1669.jpeg  \n",
            "  inflating: chest-xray-pneumonia/covid-normal-pneumonia/val/viral/person992_virus_1670.jpeg  \n",
            "  inflating: chest-xray-pneumonia/covid-normal-pneumonia/val/viral/person993_virus_1671.jpeg  \n"
          ],
          "name": "stdout"
        }
      ]
    },
    {
      "cell_type": "code",
      "metadata": {
        "id": "ekwn8TrOiowx",
        "colab_type": "code",
        "colab": {}
      },
      "source": [
        "TRAIN_PATH = './chest-xray-pneumonia/covid-normal-pneumonia/train'\n",
        "VAL_PATH = './chest-xray-pneumonia/covid-normal-pneumonia/val'\n",
        "TEST_PATH = './chest-xray-pneumonia/covid-normal-pneumonia/test'"
      ],
      "execution_count": 4,
      "outputs": []
    },
    {
      "cell_type": "code",
      "metadata": {
        "id": "mi54wgBKkAlW",
        "colab_type": "code",
        "colab": {
          "base_uri": "https://localhost:8080/",
          "height": 35
        },
        "outputId": "9ca36519-a158-47ed-c15c-5451555794d1"
      },
      "source": [
        "import pathlib\n",
        "data_dir = pathlib.Path(TRAIN_PATH)\n",
        "image_count = len(list(data_dir.glob('*/*')))\n",
        "print(image_count)"
      ],
      "execution_count": 5,
      "outputs": [
        {
          "output_type": "stream",
          "text": [
            "478\n"
          ],
          "name": "stdout"
        }
      ]
    },
    {
      "cell_type": "code",
      "metadata": {
        "id": "c-VoonQ-hXiV",
        "colab_type": "code",
        "colab": {
          "base_uri": "https://localhost:8080/",
          "height": 35
        },
        "outputId": "7d5c8b00-6548-4e90-a8ed-f58406f47cb9"
      },
      "source": [
        "#Helper libraries\n",
        "import pandas as pd\n",
        "import numpy as np\n",
        "\n",
        "from keras.models import Sequential\n",
        "from keras.layers import Conv2D, MaxPool2D,GlobalAveragePooling2D \n",
        "from keras.layers import Dense, Dropout, Softmax, Input, Flatten,BatchNormalization, Activation \n",
        "from keras.optimizers import adam, RMSprop, SGD\n",
        "from keras.preprocessing.image import ImageDataGenerator\n",
        "from keras.callbacks import ReduceLROnPlateau\n"
      ],
      "execution_count": 6,
      "outputs": [
        {
          "output_type": "stream",
          "text": [
            "Using TensorFlow backend.\n"
          ],
          "name": "stderr"
        }
      ]
    },
    {
      "cell_type": "code",
      "metadata": {
        "id": "ztJielIcpwz5",
        "colab_type": "code",
        "colab": {}
      },
      "source": [
        "np.random.seed(1)"
      ],
      "execution_count": 7,
      "outputs": []
    },
    {
      "cell_type": "code",
      "metadata": {
        "id": "CfMZ0TtrhiSl",
        "colab_type": "code",
        "colab": {
          "base_uri": "https://localhost:8080/",
          "height": 74
        },
        "outputId": "2e394fb5-74d3-4e5b-d659-d5dce675dc3a"
      },
      "source": [
        "image_gen = ImageDataGenerator(\n",
        "        samplewise_center=False,  \n",
        "        featurewise_std_normalization=True,  \n",
        "        samplewise_std_normalization=False,  \n",
        "        zca_whitening=False,  \n",
        "        rotation_range=10,  \n",
        "        zoom_range = 0.1, \n",
        "        width_shift_range=0.1,  \n",
        "        height_shift_range=0.1,  \n",
        "        horizontal_flip= True,  \n",
        "        vertical_flip=True)"
      ],
      "execution_count": 8,
      "outputs": [
        {
          "output_type": "stream",
          "text": [
            "/usr/local/lib/python3.6/dist-packages/keras_preprocessing/image/image_data_generator.py:349: UserWarning: This ImageDataGenerator specifies `featurewise_std_normalization`, which overrides setting of `featurewise_center`.\n",
            "  warnings.warn('This ImageDataGenerator specifies '\n"
          ],
          "name": "stderr"
        }
      ]
    },
    {
      "cell_type": "code",
      "metadata": {
        "id": "DvVeSubkj5Ax",
        "colab_type": "code",
        "colab": {}
      },
      "source": [
        "BATCH_SIZE= 14\n",
        "IMG_H = 224\n",
        "IMG_W = 224\n",
        "STEP_PER_EPOCH = np.ceil(image_count / BATCH_SIZE)"
      ],
      "execution_count": 9,
      "outputs": []
    },
    {
      "cell_type": "code",
      "metadata": {
        "id": "vDYNij1gkx9j",
        "colab_type": "code",
        "colab": {
          "base_uri": "https://localhost:8080/",
          "height": 72
        },
        "outputId": "5e58cf32-cf93-40f0-8576-ec2e714827e2"
      },
      "source": [
        "train_batches = image_gen.flow_from_directory(\n",
        "                                 TRAIN_PATH,\n",
        "                                 target_size=(IMG_H, IMG_W),\n",
        "                                 classes=['covid','normal', 'bacterial','viral'],\n",
        "                                 batch_size=BATCH_SIZE)\n",
        "val_batches = image_gen.flow_from_directory(\n",
        "                                 VAL_PATH,\n",
        "                                 target_size=(IMG_H, IMG_W),\n",
        "                                 classes=['covid','normal', 'bacterial','viral'],\n",
        "                                 batch_size=BATCH_SIZE)\n",
        "test_batches = image_gen.flow_from_directory(\n",
        "                                 TEST_PATH,\n",
        "                                 target_size=(IMG_H, IMG_W),\n",
        "                                 classes=['covid','normal', 'bacterial','viral'],\n",
        "                                 batch_size=BATCH_SIZE)\n"
      ],
      "execution_count": 10,
      "outputs": [
        {
          "output_type": "stream",
          "text": [
            "Found 478 images belonging to 4 classes.\n",
            "Found 56 images belonging to 4 classes.\n",
            "Found 28 images belonging to 4 classes.\n"
          ],
          "name": "stdout"
        }
      ]
    },
    {
      "cell_type": "code",
      "metadata": {
        "id": "vtZw2mtOk9bs",
        "colab_type": "code",
        "colab": {}
      },
      "source": [
        "def model(learning_rate):\n",
        "        model = Sequential()\n",
        "        model.add(Conv2D(filters=32, kernel_size=(5,5), activation=\"relu\", padding=\"same\", input_shape=(IMG_H,IMG_W,3)))\n",
        "        model.add(Conv2D(filters=64, kernel_size=(5,5), activation=\"relu\", padding=\"same\"))\n",
        "        model.add(MaxPool2D(pool_size=(2,2), padding='same'))\n",
        "        model.add(Conv2D(filters=128, kernel_size=(5,5), activation=\"relu\", padding=\"same\"))\n",
        "        model.add(MaxPool2D(pool_size=(2,2), padding='same'))\n",
        "        model.add(Dropout(rate=0.4))\n",
        "\n",
        "        model.add(Flatten())\n",
        "\n",
        "        model.add(Dense(1024, activation=\"relu\"))\n",
        "        model.add(BatchNormalization())\n",
        "        model.add(Dropout(rate=0.4))\n",
        "        model.add(Dense(4, activation=\"softmax\"))\n",
        "    \n",
        "        model.compile(optimizer = RMSprop(lr = learning_rate),\n",
        "                  loss = \"categorical_crossentropy\",\n",
        "                  metrics = ['accuracy'])\n",
        "    \n",
        "        return model"
      ],
      "execution_count": 18,
      "outputs": []
    },
    {
      "cell_type": "code",
      "metadata": {
        "id": "T2uQJvNNlECE",
        "colab_type": "code",
        "colab": {
          "base_uri": "https://localhost:8080/",
          "height": 270
        },
        "outputId": "c148c763-f80a-4854-ed02-2171c34f6f1c"
      },
      "source": [
        "model = model(0.0001)\n",
        "print(model.summary())"
      ],
      "execution_count": 19,
      "outputs": [
        {
          "output_type": "error",
          "ename": "ResourceExhaustedError",
          "evalue": "ignored",
          "traceback": [
            "\u001b[0;31m---------------------------------------------------------------------------\u001b[0m",
            "\u001b[0;31mResourceExhaustedError\u001b[0m                    Traceback (most recent call last)",
            "\u001b[0;32m<ipython-input-19-890eab4ef021>\u001b[0m in \u001b[0;36m<module>\u001b[0;34m()\u001b[0m\n\u001b[0;32m----> 1\u001b[0;31m \u001b[0mmodel\u001b[0m \u001b[0;34m=\u001b[0m \u001b[0mmodel\u001b[0m\u001b[0;34m(\u001b[0m\u001b[0;36m0.0001\u001b[0m\u001b[0;34m)\u001b[0m\u001b[0;34m\u001b[0m\u001b[0;34m\u001b[0m\u001b[0m\n\u001b[0m\u001b[1;32m      2\u001b[0m \u001b[0mprint\u001b[0m\u001b[0;34m(\u001b[0m\u001b[0mmodel\u001b[0m\u001b[0;34m.\u001b[0m\u001b[0msummary\u001b[0m\u001b[0;34m(\u001b[0m\u001b[0;34m)\u001b[0m\u001b[0;34m)\u001b[0m\u001b[0;34m\u001b[0m\u001b[0;34m\u001b[0m\u001b[0m\n",
            "\u001b[0;32m<ipython-input-18-d867877b00fe>\u001b[0m in \u001b[0;36mmodel\u001b[0;34m(learning_rate)\u001b[0m\n\u001b[1;32m     10\u001b[0m         \u001b[0mmodel\u001b[0m\u001b[0;34m.\u001b[0m\u001b[0madd\u001b[0m\u001b[0;34m(\u001b[0m\u001b[0mFlatten\u001b[0m\u001b[0;34m(\u001b[0m\u001b[0;34m)\u001b[0m\u001b[0;34m)\u001b[0m\u001b[0;34m\u001b[0m\u001b[0;34m\u001b[0m\u001b[0m\n\u001b[1;32m     11\u001b[0m \u001b[0;34m\u001b[0m\u001b[0m\n\u001b[0;32m---> 12\u001b[0;31m         \u001b[0mmodel\u001b[0m\u001b[0;34m.\u001b[0m\u001b[0madd\u001b[0m\u001b[0;34m(\u001b[0m\u001b[0mDense\u001b[0m\u001b[0;34m(\u001b[0m\u001b[0;36m1024\u001b[0m\u001b[0;34m,\u001b[0m \u001b[0mactivation\u001b[0m\u001b[0;34m=\u001b[0m\u001b[0;34m\"relu\"\u001b[0m\u001b[0;34m)\u001b[0m\u001b[0;34m)\u001b[0m\u001b[0;34m\u001b[0m\u001b[0;34m\u001b[0m\u001b[0m\n\u001b[0m\u001b[1;32m     13\u001b[0m         \u001b[0mmodel\u001b[0m\u001b[0;34m.\u001b[0m\u001b[0madd\u001b[0m\u001b[0;34m(\u001b[0m\u001b[0mBatchNormalization\u001b[0m\u001b[0;34m(\u001b[0m\u001b[0;34m)\u001b[0m\u001b[0;34m)\u001b[0m\u001b[0;34m\u001b[0m\u001b[0;34m\u001b[0m\u001b[0m\n\u001b[1;32m     14\u001b[0m         \u001b[0mmodel\u001b[0m\u001b[0;34m.\u001b[0m\u001b[0madd\u001b[0m\u001b[0;34m(\u001b[0m\u001b[0mDropout\u001b[0m\u001b[0;34m(\u001b[0m\u001b[0mrate\u001b[0m\u001b[0;34m=\u001b[0m\u001b[0;36m0.4\u001b[0m\u001b[0;34m)\u001b[0m\u001b[0;34m)\u001b[0m\u001b[0;34m\u001b[0m\u001b[0;34m\u001b[0m\u001b[0m\n",
            "\u001b[0;32m/usr/local/lib/python3.6/dist-packages/keras/engine/sequential.py\u001b[0m in \u001b[0;36madd\u001b[0;34m(self, layer)\u001b[0m\n\u001b[1;32m    180\u001b[0m                 \u001b[0mself\u001b[0m\u001b[0;34m.\u001b[0m\u001b[0minputs\u001b[0m \u001b[0;34m=\u001b[0m \u001b[0mnetwork\u001b[0m\u001b[0;34m.\u001b[0m\u001b[0mget_source_inputs\u001b[0m\u001b[0;34m(\u001b[0m\u001b[0mself\u001b[0m\u001b[0;34m.\u001b[0m\u001b[0moutputs\u001b[0m\u001b[0;34m[\u001b[0m\u001b[0;36m0\u001b[0m\u001b[0;34m]\u001b[0m\u001b[0;34m)\u001b[0m\u001b[0;34m\u001b[0m\u001b[0;34m\u001b[0m\u001b[0m\n\u001b[1;32m    181\u001b[0m         \u001b[0;32melif\u001b[0m \u001b[0mself\u001b[0m\u001b[0;34m.\u001b[0m\u001b[0moutputs\u001b[0m\u001b[0;34m:\u001b[0m\u001b[0;34m\u001b[0m\u001b[0;34m\u001b[0m\u001b[0m\n\u001b[0;32m--> 182\u001b[0;31m             \u001b[0moutput_tensor\u001b[0m \u001b[0;34m=\u001b[0m \u001b[0mlayer\u001b[0m\u001b[0;34m(\u001b[0m\u001b[0mself\u001b[0m\u001b[0;34m.\u001b[0m\u001b[0moutputs\u001b[0m\u001b[0;34m[\u001b[0m\u001b[0;36m0\u001b[0m\u001b[0;34m]\u001b[0m\u001b[0;34m)\u001b[0m\u001b[0;34m\u001b[0m\u001b[0;34m\u001b[0m\u001b[0m\n\u001b[0m\u001b[1;32m    183\u001b[0m             \u001b[0;32mif\u001b[0m \u001b[0misinstance\u001b[0m\u001b[0;34m(\u001b[0m\u001b[0moutput_tensor\u001b[0m\u001b[0;34m,\u001b[0m \u001b[0mlist\u001b[0m\u001b[0;34m)\u001b[0m\u001b[0;34m:\u001b[0m\u001b[0;34m\u001b[0m\u001b[0;34m\u001b[0m\u001b[0m\n\u001b[1;32m    184\u001b[0m                 raise TypeError('All layers in a Sequential model '\n",
            "\u001b[0;32m/usr/local/lib/python3.6/dist-packages/keras/backend/tensorflow_backend.py\u001b[0m in \u001b[0;36msymbolic_fn_wrapper\u001b[0;34m(*args, **kwargs)\u001b[0m\n\u001b[1;32m     73\u001b[0m         \u001b[0;32mif\u001b[0m \u001b[0m_SYMBOLIC_SCOPE\u001b[0m\u001b[0;34m.\u001b[0m\u001b[0mvalue\u001b[0m\u001b[0;34m:\u001b[0m\u001b[0;34m\u001b[0m\u001b[0;34m\u001b[0m\u001b[0m\n\u001b[1;32m     74\u001b[0m             \u001b[0;32mwith\u001b[0m \u001b[0mget_graph\u001b[0m\u001b[0;34m(\u001b[0m\u001b[0;34m)\u001b[0m\u001b[0;34m.\u001b[0m\u001b[0mas_default\u001b[0m\u001b[0;34m(\u001b[0m\u001b[0;34m)\u001b[0m\u001b[0;34m:\u001b[0m\u001b[0;34m\u001b[0m\u001b[0;34m\u001b[0m\u001b[0m\n\u001b[0;32m---> 75\u001b[0;31m                 \u001b[0;32mreturn\u001b[0m \u001b[0mfunc\u001b[0m\u001b[0;34m(\u001b[0m\u001b[0;34m*\u001b[0m\u001b[0margs\u001b[0m\u001b[0;34m,\u001b[0m \u001b[0;34m**\u001b[0m\u001b[0mkwargs\u001b[0m\u001b[0;34m)\u001b[0m\u001b[0;34m\u001b[0m\u001b[0;34m\u001b[0m\u001b[0m\n\u001b[0m\u001b[1;32m     76\u001b[0m         \u001b[0;32melse\u001b[0m\u001b[0;34m:\u001b[0m\u001b[0;34m\u001b[0m\u001b[0;34m\u001b[0m\u001b[0m\n\u001b[1;32m     77\u001b[0m             \u001b[0;32mreturn\u001b[0m \u001b[0mfunc\u001b[0m\u001b[0;34m(\u001b[0m\u001b[0;34m*\u001b[0m\u001b[0margs\u001b[0m\u001b[0;34m,\u001b[0m \u001b[0;34m**\u001b[0m\u001b[0mkwargs\u001b[0m\u001b[0;34m)\u001b[0m\u001b[0;34m\u001b[0m\u001b[0;34m\u001b[0m\u001b[0m\n",
            "\u001b[0;32m/usr/local/lib/python3.6/dist-packages/keras/engine/base_layer.py\u001b[0m in \u001b[0;36m__call__\u001b[0;34m(self, inputs, **kwargs)\u001b[0m\n\u001b[1;32m    461\u001b[0m                                          \u001b[0;34m'You can build it manually via: '\u001b[0m\u001b[0;34m\u001b[0m\u001b[0;34m\u001b[0m\u001b[0m\n\u001b[1;32m    462\u001b[0m                                          '`layer.build(batch_input_shape)`')\n\u001b[0;32m--> 463\u001b[0;31m                 \u001b[0mself\u001b[0m\u001b[0;34m.\u001b[0m\u001b[0mbuild\u001b[0m\u001b[0;34m(\u001b[0m\u001b[0munpack_singleton\u001b[0m\u001b[0;34m(\u001b[0m\u001b[0minput_shapes\u001b[0m\u001b[0;34m)\u001b[0m\u001b[0;34m)\u001b[0m\u001b[0;34m\u001b[0m\u001b[0;34m\u001b[0m\u001b[0m\n\u001b[0m\u001b[1;32m    464\u001b[0m                 \u001b[0mself\u001b[0m\u001b[0;34m.\u001b[0m\u001b[0mbuilt\u001b[0m \u001b[0;34m=\u001b[0m \u001b[0;32mTrue\u001b[0m\u001b[0;34m\u001b[0m\u001b[0;34m\u001b[0m\u001b[0m\n\u001b[1;32m    465\u001b[0m \u001b[0;34m\u001b[0m\u001b[0m\n",
            "\u001b[0;32m/usr/local/lib/python3.6/dist-packages/keras/layers/core.py\u001b[0m in \u001b[0;36mbuild\u001b[0;34m(self, input_shape)\u001b[0m\n\u001b[1;32m    893\u001b[0m                                       \u001b[0mname\u001b[0m\u001b[0;34m=\u001b[0m\u001b[0;34m'kernel'\u001b[0m\u001b[0;34m,\u001b[0m\u001b[0;34m\u001b[0m\u001b[0;34m\u001b[0m\u001b[0m\n\u001b[1;32m    894\u001b[0m                                       \u001b[0mregularizer\u001b[0m\u001b[0;34m=\u001b[0m\u001b[0mself\u001b[0m\u001b[0;34m.\u001b[0m\u001b[0mkernel_regularizer\u001b[0m\u001b[0;34m,\u001b[0m\u001b[0;34m\u001b[0m\u001b[0;34m\u001b[0m\u001b[0m\n\u001b[0;32m--> 895\u001b[0;31m                                       constraint=self.kernel_constraint)\n\u001b[0m\u001b[1;32m    896\u001b[0m         \u001b[0;32mif\u001b[0m \u001b[0mself\u001b[0m\u001b[0;34m.\u001b[0m\u001b[0muse_bias\u001b[0m\u001b[0;34m:\u001b[0m\u001b[0;34m\u001b[0m\u001b[0;34m\u001b[0m\u001b[0m\n\u001b[1;32m    897\u001b[0m             self.bias = self.add_weight(shape=(self.units,),\n",
            "\u001b[0;32m/usr/local/lib/python3.6/dist-packages/keras/engine/base_layer.py\u001b[0m in \u001b[0;36madd_weight\u001b[0;34m(self, name, shape, dtype, initializer, regularizer, trainable, constraint)\u001b[0m\n\u001b[1;32m    277\u001b[0m         \u001b[0;32mif\u001b[0m \u001b[0mdtype\u001b[0m \u001b[0;32mis\u001b[0m \u001b[0;32mNone\u001b[0m\u001b[0;34m:\u001b[0m\u001b[0;34m\u001b[0m\u001b[0;34m\u001b[0m\u001b[0m\n\u001b[1;32m    278\u001b[0m             \u001b[0mdtype\u001b[0m \u001b[0;34m=\u001b[0m \u001b[0mself\u001b[0m\u001b[0;34m.\u001b[0m\u001b[0mdtype\u001b[0m\u001b[0;34m\u001b[0m\u001b[0;34m\u001b[0m\u001b[0m\n\u001b[0;32m--> 279\u001b[0;31m         weight = K.variable(initializer(shape, dtype=dtype),\n\u001b[0m\u001b[1;32m    280\u001b[0m                             \u001b[0mdtype\u001b[0m\u001b[0;34m=\u001b[0m\u001b[0mdtype\u001b[0m\u001b[0;34m,\u001b[0m\u001b[0;34m\u001b[0m\u001b[0;34m\u001b[0m\u001b[0m\n\u001b[1;32m    281\u001b[0m                             \u001b[0mname\u001b[0m\u001b[0;34m=\u001b[0m\u001b[0mname\u001b[0m\u001b[0;34m,\u001b[0m\u001b[0;34m\u001b[0m\u001b[0;34m\u001b[0m\u001b[0m\n",
            "\u001b[0;32m/usr/local/lib/python3.6/dist-packages/keras/initializers.py\u001b[0m in \u001b[0;36m__call__\u001b[0;34m(self, shape, dtype)\u001b[0m\n\u001b[1;32m    225\u001b[0m             \u001b[0mlimit\u001b[0m \u001b[0;34m=\u001b[0m \u001b[0mnp\u001b[0m\u001b[0;34m.\u001b[0m\u001b[0msqrt\u001b[0m\u001b[0;34m(\u001b[0m\u001b[0;36m3.\u001b[0m \u001b[0;34m*\u001b[0m \u001b[0mscale\u001b[0m\u001b[0;34m)\u001b[0m\u001b[0;34m\u001b[0m\u001b[0;34m\u001b[0m\u001b[0m\n\u001b[1;32m    226\u001b[0m             x = K.random_uniform(shape, -limit, limit,\n\u001b[0;32m--> 227\u001b[0;31m                                  dtype=dtype, seed=self.seed)\n\u001b[0m\u001b[1;32m    228\u001b[0m         \u001b[0;32mif\u001b[0m \u001b[0mself\u001b[0m\u001b[0;34m.\u001b[0m\u001b[0mseed\u001b[0m \u001b[0;32mis\u001b[0m \u001b[0;32mnot\u001b[0m \u001b[0;32mNone\u001b[0m\u001b[0;34m:\u001b[0m\u001b[0;34m\u001b[0m\u001b[0;34m\u001b[0m\u001b[0m\n\u001b[1;32m    229\u001b[0m             \u001b[0mself\u001b[0m\u001b[0;34m.\u001b[0m\u001b[0mseed\u001b[0m \u001b[0;34m+=\u001b[0m \u001b[0;36m1\u001b[0m\u001b[0;34m\u001b[0m\u001b[0;34m\u001b[0m\u001b[0m\n",
            "\u001b[0;32m/usr/local/lib/python3.6/dist-packages/keras/backend/tensorflow_backend.py\u001b[0m in \u001b[0;36mrandom_uniform\u001b[0;34m(shape, minval, maxval, dtype, seed)\u001b[0m\n\u001b[1;32m   4355\u001b[0m     \u001b[0;32mwith\u001b[0m \u001b[0mtf_ops\u001b[0m\u001b[0;34m.\u001b[0m\u001b[0minit_scope\u001b[0m\u001b[0;34m(\u001b[0m\u001b[0;34m)\u001b[0m\u001b[0;34m:\u001b[0m\u001b[0;34m\u001b[0m\u001b[0;34m\u001b[0m\u001b[0m\n\u001b[1;32m   4356\u001b[0m         return tf_keras_backend.random_uniform(\n\u001b[0;32m-> 4357\u001b[0;31m             shape, minval=minval, maxval=maxval, dtype=dtype, seed=seed)\n\u001b[0m\u001b[1;32m   4358\u001b[0m \u001b[0;34m\u001b[0m\u001b[0m\n\u001b[1;32m   4359\u001b[0m \u001b[0;34m\u001b[0m\u001b[0m\n",
            "\u001b[0;32m/usr/local/lib/python3.6/dist-packages/tensorflow/python/keras/backend.py\u001b[0m in \u001b[0;36mrandom_uniform\u001b[0;34m(shape, minval, maxval, dtype, seed)\u001b[0m\n\u001b[1;32m   5684\u001b[0m     \u001b[0mseed\u001b[0m \u001b[0;34m=\u001b[0m \u001b[0mnp\u001b[0m\u001b[0;34m.\u001b[0m\u001b[0mrandom\u001b[0m\u001b[0;34m.\u001b[0m\u001b[0mrandint\u001b[0m\u001b[0;34m(\u001b[0m\u001b[0;36m10e6\u001b[0m\u001b[0;34m)\u001b[0m\u001b[0;34m\u001b[0m\u001b[0;34m\u001b[0m\u001b[0m\n\u001b[1;32m   5685\u001b[0m   return random_ops.random_uniform(\n\u001b[0;32m-> 5686\u001b[0;31m       shape, minval=minval, maxval=maxval, dtype=dtype, seed=seed)\n\u001b[0m\u001b[1;32m   5687\u001b[0m \u001b[0;34m\u001b[0m\u001b[0m\n\u001b[1;32m   5688\u001b[0m \u001b[0;34m\u001b[0m\u001b[0m\n",
            "\u001b[0;32m/usr/local/lib/python3.6/dist-packages/tensorflow/python/ops/random_ops.py\u001b[0m in \u001b[0;36mrandom_uniform\u001b[0;34m(shape, minval, maxval, dtype, seed, name)\u001b[0m\n\u001b[1;32m    299\u001b[0m           \u001b[0mresult\u001b[0m \u001b[0;34m=\u001b[0m \u001b[0mmath_ops\u001b[0m\u001b[0;34m.\u001b[0m\u001b[0mmultiply\u001b[0m\u001b[0;34m(\u001b[0m\u001b[0mresult\u001b[0m\u001b[0;34m,\u001b[0m \u001b[0mmaxval\u001b[0m\u001b[0;34m)\u001b[0m\u001b[0;34m\u001b[0m\u001b[0;34m\u001b[0m\u001b[0m\n\u001b[1;32m    300\u001b[0m       \u001b[0;32melse\u001b[0m\u001b[0;34m:\u001b[0m\u001b[0;34m\u001b[0m\u001b[0;34m\u001b[0m\u001b[0m\n\u001b[0;32m--> 301\u001b[0;31m         \u001b[0mresult\u001b[0m \u001b[0;34m=\u001b[0m \u001b[0mmath_ops\u001b[0m\u001b[0;34m.\u001b[0m\u001b[0madd\u001b[0m\u001b[0;34m(\u001b[0m\u001b[0mresult\u001b[0m \u001b[0;34m*\u001b[0m \u001b[0;34m(\u001b[0m\u001b[0mmaxval\u001b[0m \u001b[0;34m-\u001b[0m \u001b[0mminval\u001b[0m\u001b[0;34m)\u001b[0m\u001b[0;34m,\u001b[0m \u001b[0mminval\u001b[0m\u001b[0;34m,\u001b[0m \u001b[0mname\u001b[0m\u001b[0;34m=\u001b[0m\u001b[0mname\u001b[0m\u001b[0;34m)\u001b[0m\u001b[0;34m\u001b[0m\u001b[0;34m\u001b[0m\u001b[0m\n\u001b[0m\u001b[1;32m    302\u001b[0m     \u001b[0;31m# TODO(b/132092188): C++ shape inference inside functional ops does not\u001b[0m\u001b[0;34m\u001b[0m\u001b[0;34m\u001b[0m\u001b[0;34m\u001b[0m\u001b[0m\n\u001b[1;32m    303\u001b[0m     \u001b[0;31m# cross FuncGraph boundaries since that information is only available in\u001b[0m\u001b[0;34m\u001b[0m\u001b[0;34m\u001b[0m\u001b[0;34m\u001b[0m\u001b[0m\n",
            "\u001b[0;32m/usr/local/lib/python3.6/dist-packages/tensorflow/python/ops/gen_math_ops.py\u001b[0m in \u001b[0;36madd\u001b[0;34m(x, y, name)\u001b[0m\n\u001b[1;32m    341\u001b[0m         \u001b[0;32mraise\u001b[0m\u001b[0;34m\u001b[0m\u001b[0;34m\u001b[0m\u001b[0m\n\u001b[1;32m    342\u001b[0m     \u001b[0;32mexcept\u001b[0m \u001b[0m_core\u001b[0m\u001b[0;34m.\u001b[0m\u001b[0m_NotOkStatusException\u001b[0m \u001b[0;32mas\u001b[0m \u001b[0me\u001b[0m\u001b[0;34m:\u001b[0m\u001b[0;34m\u001b[0m\u001b[0;34m\u001b[0m\u001b[0m\n\u001b[0;32m--> 343\u001b[0;31m       \u001b[0m_ops\u001b[0m\u001b[0;34m.\u001b[0m\u001b[0mraise_from_not_ok_status\u001b[0m\u001b[0;34m(\u001b[0m\u001b[0me\u001b[0m\u001b[0;34m,\u001b[0m \u001b[0mname\u001b[0m\u001b[0;34m)\u001b[0m\u001b[0;34m\u001b[0m\u001b[0;34m\u001b[0m\u001b[0m\n\u001b[0m\u001b[1;32m    344\u001b[0m   \u001b[0;31m# Add nodes to the TensorFlow graph.\u001b[0m\u001b[0;34m\u001b[0m\u001b[0;34m\u001b[0m\u001b[0;34m\u001b[0m\u001b[0m\n\u001b[1;32m    345\u001b[0m   \u001b[0;32mtry\u001b[0m\u001b[0;34m:\u001b[0m\u001b[0;34m\u001b[0m\u001b[0;34m\u001b[0m\u001b[0m\n",
            "\u001b[0;32m/usr/local/lib/python3.6/dist-packages/tensorflow/python/framework/ops.py\u001b[0m in \u001b[0;36mraise_from_not_ok_status\u001b[0;34m(e, name)\u001b[0m\n\u001b[1;32m   6651\u001b[0m   \u001b[0mmessage\u001b[0m \u001b[0;34m=\u001b[0m \u001b[0me\u001b[0m\u001b[0;34m.\u001b[0m\u001b[0mmessage\u001b[0m \u001b[0;34m+\u001b[0m \u001b[0;34m(\u001b[0m\u001b[0;34m\" name: \"\u001b[0m \u001b[0;34m+\u001b[0m \u001b[0mname\u001b[0m \u001b[0;32mif\u001b[0m \u001b[0mname\u001b[0m \u001b[0;32mis\u001b[0m \u001b[0;32mnot\u001b[0m \u001b[0;32mNone\u001b[0m \u001b[0;32melse\u001b[0m \u001b[0;34m\"\"\u001b[0m\u001b[0;34m)\u001b[0m\u001b[0;34m\u001b[0m\u001b[0;34m\u001b[0m\u001b[0m\n\u001b[1;32m   6652\u001b[0m   \u001b[0;31m# pylint: disable=protected-access\u001b[0m\u001b[0;34m\u001b[0m\u001b[0;34m\u001b[0m\u001b[0;34m\u001b[0m\u001b[0m\n\u001b[0;32m-> 6653\u001b[0;31m   \u001b[0msix\u001b[0m\u001b[0;34m.\u001b[0m\u001b[0mraise_from\u001b[0m\u001b[0;34m(\u001b[0m\u001b[0mcore\u001b[0m\u001b[0;34m.\u001b[0m\u001b[0m_status_to_exception\u001b[0m\u001b[0;34m(\u001b[0m\u001b[0me\u001b[0m\u001b[0;34m.\u001b[0m\u001b[0mcode\u001b[0m\u001b[0;34m,\u001b[0m \u001b[0mmessage\u001b[0m\u001b[0;34m)\u001b[0m\u001b[0;34m,\u001b[0m \u001b[0;32mNone\u001b[0m\u001b[0;34m)\u001b[0m\u001b[0;34m\u001b[0m\u001b[0;34m\u001b[0m\u001b[0m\n\u001b[0m\u001b[1;32m   6654\u001b[0m   \u001b[0;31m# pylint: enable=protected-access\u001b[0m\u001b[0;34m\u001b[0m\u001b[0;34m\u001b[0m\u001b[0;34m\u001b[0m\u001b[0m\n\u001b[1;32m   6655\u001b[0m \u001b[0;34m\u001b[0m\u001b[0m\n",
            "\u001b[0;32m/usr/local/lib/python3.6/dist-packages/six.py\u001b[0m in \u001b[0;36mraise_from\u001b[0;34m(value, from_value)\u001b[0m\n",
            "\u001b[0;31mResourceExhaustedError\u001b[0m: OOM when allocating tensor with shape[401408,1024] and type float on /job:localhost/replica:0/task:0/device:GPU:0 by allocator GPU_0_bfc [Op:Add]"
          ]
        }
      ]
    },
    {
      "cell_type": "code",
      "metadata": {
        "id": "LV3rj0OElI9j",
        "colab_type": "code",
        "colab": {
          "base_uri": "https://localhost:8080/",
          "height": 478
        },
        "outputId": "1bab3f2a-ff0d-44de-de23-a69689e83a5c"
      },
      "source": [
        "total_epochs = 10\n",
        "\n",
        "history_fine = model.fit(train_batches,\n",
        "                         epochs = total_epochs,\n",
        "                         shuffle=True, \n",
        "                         initial_epoch=0,\n",
        "                         validation_data = val_batches)"
      ],
      "execution_count": 15,
      "outputs": [
        {
          "output_type": "stream",
          "text": [
            "Epoch 1/10\n"
          ],
          "name": "stdout"
        },
        {
          "output_type": "stream",
          "text": [
            "/usr/local/lib/python3.6/dist-packages/keras_preprocessing/image/image_data_generator.py:720: UserWarning: This ImageDataGenerator specifies `featurewise_center`, but it hasn't been fit on any training data. Fit it first by calling `.fit(numpy_data)`.\n",
            "  warnings.warn('This ImageDataGenerator specifies '\n",
            "/usr/local/lib/python3.6/dist-packages/keras_preprocessing/image/image_data_generator.py:728: UserWarning: This ImageDataGenerator specifies `featurewise_std_normalization`, but it hasn't been fit on any training data. Fit it first by calling `.fit(numpy_data)`.\n",
            "  warnings.warn('This ImageDataGenerator specifies '\n"
          ],
          "name": "stderr"
        },
        {
          "output_type": "stream",
          "text": [
            "35/35 [==============================] - 24s 675ms/step - loss: 1.4424 - accuracy: 0.5188 - val_loss: 5.2071 - val_accuracy: 0.4643\n",
            "Epoch 2/10\n",
            "35/35 [==============================] - 18s 516ms/step - loss: 1.0835 - accuracy: 0.5837 - val_loss: 1.1371 - val_accuracy: 0.5179\n",
            "Epoch 3/10\n",
            "35/35 [==============================] - 18s 516ms/step - loss: 1.2083 - accuracy: 0.6192 - val_loss: 1.5258 - val_accuracy: 0.5000\n",
            "Epoch 4/10\n",
            "35/35 [==============================] - 18s 519ms/step - loss: 0.9059 - accuracy: 0.6736 - val_loss: 1.4211 - val_accuracy: 0.5357\n",
            "Epoch 5/10\n",
            "35/35 [==============================] - 18s 519ms/step - loss: 0.8449 - accuracy: 0.6925 - val_loss: 1.3823 - val_accuracy: 0.5179\n",
            "Epoch 6/10\n",
            "35/35 [==============================] - 18s 522ms/step - loss: 0.9498 - accuracy: 0.6778 - val_loss: 0.6836 - val_accuracy: 0.5893\n",
            "Epoch 7/10\n",
            "35/35 [==============================] - 18s 517ms/step - loss: 0.9157 - accuracy: 0.6736 - val_loss: 1.1827 - val_accuracy: 0.4286\n",
            "Epoch 8/10\n",
            "35/35 [==============================] - 18s 519ms/step - loss: 0.8202 - accuracy: 0.6862 - val_loss: 1.0950 - val_accuracy: 0.6786\n",
            "Epoch 9/10\n",
            "35/35 [==============================] - 19s 529ms/step - loss: 0.7155 - accuracy: 0.7029 - val_loss: 1.2763 - val_accuracy: 0.4464\n",
            "Epoch 10/10\n",
            "35/35 [==============================] - 18s 526ms/step - loss: 0.6780 - accuracy: 0.7197 - val_loss: 0.6122 - val_accuracy: 0.7679\n"
          ],
          "name": "stdout"
        }
      ]
    },
    {
      "cell_type": "code",
      "metadata": {
        "id": "mqCcqBNu3bLf",
        "colab_type": "code",
        "colab": {}
      },
      "source": [
        ""
      ],
      "execution_count": null,
      "outputs": []
    },
    {
      "cell_type": "markdown",
      "metadata": {
        "id": "pJU1aIi1Ct1R",
        "colab_type": "text"
      },
      "source": [
        ""
      ]
    },
    {
      "cell_type": "code",
      "metadata": {
        "id": "gs7TtjTBe14r",
        "colab_type": "code",
        "colab": {
          "base_uri": "https://localhost:8080/",
          "height": 147
        },
        "outputId": "7a3b38d4-64af-44b4-b0d6-3a7358cdcc8f"
      },
      "source": [
        "model.evaluate(test_batches)"
      ],
      "execution_count": null,
      "outputs": [
        {
          "output_type": "stream",
          "text": [
            "/usr/local/lib/python3.6/dist-packages/keras_preprocessing/image/image_data_generator.py:720: UserWarning: This ImageDataGenerator specifies `featurewise_center`, but it hasn't been fit on any training data. Fit it first by calling `.fit(numpy_data)`.\n",
            "  warnings.warn('This ImageDataGenerator specifies '\n",
            "/usr/local/lib/python3.6/dist-packages/keras_preprocessing/image/image_data_generator.py:728: UserWarning: This ImageDataGenerator specifies `featurewise_std_normalization`, but it hasn't been fit on any training data. Fit it first by calling `.fit(numpy_data)`.\n",
            "  warnings.warn('This ImageDataGenerator specifies '\n"
          ],
          "name": "stderr"
        },
        {
          "output_type": "stream",
          "text": [
            "2/2 [==============================] - 1s 311ms/step\n"
          ],
          "name": "stdout"
        },
        {
          "output_type": "execute_result",
          "data": {
            "text/plain": [
              "[1.8604623079299927, 0.3928571343421936]"
            ]
          },
          "metadata": {
            "tags": []
          },
          "execution_count": 68
        }
      ]
    },
    {
      "cell_type": "code",
      "metadata": {
        "id": "U6R-hiFlfY43",
        "colab_type": "code",
        "colab": {
          "base_uri": "https://localhost:8080/",
          "height": 35
        },
        "outputId": "86af2ba0-298a-48f8-f0d0-3c281adccae5"
      },
      "source": [
        "print(model.metrics_names)"
      ],
      "execution_count": null,
      "outputs": [
        {
          "output_type": "stream",
          "text": [
            "['loss', 'accuracy']\n"
          ],
          "name": "stdout"
        }
      ]
    },
    {
      "cell_type": "code",
      "metadata": {
        "id": "qSHja3IRevMW",
        "colab_type": "code",
        "colab": {
          "base_uri": "https://localhost:8080/",
          "height": 1000
        },
        "outputId": "20470530-0b86-4e1e-aebc-7163f0408e6e"
      },
      "source": [
        "!pip install -U ipython\n",
        "!pip install tensorflowjs"
      ],
      "execution_count": null,
      "outputs": [
        {
          "output_type": "stream",
          "text": [
            "Collecting ipython\n",
            "\u001b[?25l  Downloading https://files.pythonhosted.org/packages/b0/00/afc3968a3cdf5f30c5c9dfb8e6a61e63231d6869a461dc1ff418280c5ea4/ipython-7.14.0-py3-none-any.whl (782kB)\n",
            "\u001b[K     |████████████████████████████████| 788kB 3.5MB/s \n",
            "\u001b[?25hRequirement already satisfied, skipping upgrade: pygments in /usr/local/lib/python3.6/dist-packages (from ipython) (2.1.3)\n",
            "Requirement already satisfied, skipping upgrade: pexpect; sys_platform != \"win32\" in /usr/local/lib/python3.6/dist-packages (from ipython) (4.8.0)\n",
            "Requirement already satisfied, skipping upgrade: backcall in /usr/local/lib/python3.6/dist-packages (from ipython) (0.1.0)\n",
            "Requirement already satisfied, skipping upgrade: decorator in /usr/local/lib/python3.6/dist-packages (from ipython) (4.4.2)\n",
            "Requirement already satisfied, skipping upgrade: jedi>=0.10 in /usr/local/lib/python3.6/dist-packages (from ipython) (0.17.0)\n",
            "Collecting prompt-toolkit!=3.0.0,!=3.0.1,<3.1.0,>=2.0.0\n",
            "\u001b[?25l  Downloading https://files.pythonhosted.org/packages/e4/a7/81b39aa50e9284fe2cb21cc7fb7de7817b224172d42793fd57451d38842b/prompt_toolkit-3.0.5-py3-none-any.whl (351kB)\n",
            "\u001b[K     |████████████████████████████████| 358kB 15.4MB/s \n",
            "\u001b[?25hRequirement already satisfied, skipping upgrade: setuptools>=18.5 in /usr/local/lib/python3.6/dist-packages (from ipython) (46.3.0)\n",
            "Requirement already satisfied, skipping upgrade: traitlets>=4.2 in /usr/local/lib/python3.6/dist-packages (from ipython) (4.3.3)\n",
            "Requirement already satisfied, skipping upgrade: pickleshare in /usr/local/lib/python3.6/dist-packages (from ipython) (0.7.5)\n",
            "Requirement already satisfied, skipping upgrade: ptyprocess>=0.5 in /usr/local/lib/python3.6/dist-packages (from pexpect; sys_platform != \"win32\"->ipython) (0.6.0)\n",
            "Requirement already satisfied, skipping upgrade: parso>=0.7.0 in /usr/local/lib/python3.6/dist-packages (from jedi>=0.10->ipython) (0.7.0)\n",
            "Requirement already satisfied, skipping upgrade: wcwidth in /usr/local/lib/python3.6/dist-packages (from prompt-toolkit!=3.0.0,!=3.0.1,<3.1.0,>=2.0.0->ipython) (0.1.9)\n",
            "Requirement already satisfied, skipping upgrade: six in /usr/local/lib/python3.6/dist-packages (from traitlets>=4.2->ipython) (1.12.0)\n",
            "Requirement already satisfied, skipping upgrade: ipython-genutils in /usr/local/lib/python3.6/dist-packages (from traitlets>=4.2->ipython) (0.2.0)\n",
            "\u001b[31mERROR: jupyter-console 5.2.0 has requirement prompt-toolkit<2.0.0,>=1.0.0, but you'll have prompt-toolkit 3.0.5 which is incompatible.\u001b[0m\n",
            "\u001b[31mERROR: google-colab 1.0.0 has requirement ipython~=5.5.0, but you'll have ipython 7.14.0 which is incompatible.\u001b[0m\n",
            "Installing collected packages: prompt-toolkit, ipython\n",
            "  Found existing installation: prompt-toolkit 1.0.18\n",
            "    Uninstalling prompt-toolkit-1.0.18:\n",
            "      Successfully uninstalled prompt-toolkit-1.0.18\n",
            "  Found existing installation: ipython 5.5.0\n",
            "    Uninstalling ipython-5.5.0:\n",
            "      Successfully uninstalled ipython-5.5.0\n",
            "Successfully installed ipython-7.14.0 prompt-toolkit-3.0.5\n"
          ],
          "name": "stdout"
        },
        {
          "output_type": "display_data",
          "data": {
            "application/vnd.colab-display-data+json": {
              "pip_warning": {
                "packages": [
                  "IPython",
                  "prompt_toolkit"
                ]
              }
            }
          },
          "metadata": {
            "tags": []
          }
        },
        {
          "output_type": "stream",
          "text": [
            "Collecting tensorflowjs\n",
            "\u001b[?25l  Downloading https://files.pythonhosted.org/packages/dd/39/23596fd498a0ba796bbe19058a545f24179e23077a0ea948d8822a78eb93/tensorflowjs-1.7.4.post1-py3-none-any.whl (57kB)\n",
            "\r\u001b[K     |█████▊                          | 10kB 17.3MB/s eta 0:00:01\r\u001b[K     |███████████▍                    | 20kB 2.2MB/s eta 0:00:01\r\u001b[K     |█████████████████▏              | 30kB 2.8MB/s eta 0:00:01\r\u001b[K     |██████████████████████▉         | 40kB 3.1MB/s eta 0:00:01\r\u001b[K     |████████████████████████████▋   | 51kB 2.5MB/s eta 0:00:01\r\u001b[K     |████████████████████████████████| 61kB 2.2MB/s \n",
            "\u001b[?25hCollecting PyInquirer==1.0.3\n",
            "  Downloading https://files.pythonhosted.org/packages/fb/4c/434b7c454010a284b49d6f1d446fe8dc5960415613d8c0225b9e2efb6724/PyInquirer-1.0.3.tar.gz\n",
            "Collecting tensorflow-hub==0.7.0\n",
            "\u001b[?25l  Downloading https://files.pythonhosted.org/packages/00/0e/a91780d07592b1abf9c91344ce459472cc19db3b67fdf3a61dca6ebb2f5c/tensorflow_hub-0.7.0-py2.py3-none-any.whl (89kB)\n",
            "\u001b[K     |████████████████████████████████| 92kB 5.3MB/s \n",
            "\u001b[?25hCollecting tensorflow-cpu>=2.1.0<3\n",
            "\u001b[?25l  Downloading https://files.pythonhosted.org/packages/e7/4f/7bf91c87907873177ad99a31014fb77271a693a3a7cb75e522ac6b556416/tensorflow_cpu-2.2.0-cp36-cp36m-manylinux2010_x86_64.whl (144.4MB)\n",
            "\u001b[K     |████████████████████████████████| 144.4MB 107kB/s \n",
            "\u001b[?25hRequirement already satisfied: h5py>=2.8.0 in /usr/local/lib/python3.6/dist-packages (from tensorflowjs) (2.10.0)\n",
            "Requirement already satisfied: six>=1.12.0 in /usr/local/lib/python3.6/dist-packages (from tensorflowjs) (1.12.0)\n",
            "Requirement already satisfied: numpy>=1.16.4 in /usr/local/lib/python3.6/dist-packages (from tensorflowjs) (1.18.4)\n",
            "Collecting prompt_toolkit==1.0.14\n",
            "\u001b[?25l  Downloading https://files.pythonhosted.org/packages/ee/3d/b25d35a9f0d381dd1c02d8e04b37c353caaaff4bc32150328eeebe4931f5/prompt_toolkit-1.0.14-py3-none-any.whl (248kB)\n",
            "\u001b[K     |████████████████████████████████| 256kB 38.6MB/s \n",
            "\u001b[?25hCollecting Pygments>=2.2.0\n",
            "\u001b[?25l  Downloading https://files.pythonhosted.org/packages/2d/68/106af3ae51daf807e9cdcba6a90e518954eb8b70341cee52995540a53ead/Pygments-2.6.1-py3-none-any.whl (914kB)\n",
            "\u001b[K     |████████████████████████████████| 921kB 22.4MB/s \n",
            "\u001b[?25hRequirement already satisfied: regex>=2016.11.21 in /usr/local/lib/python3.6/dist-packages (from PyInquirer==1.0.3->tensorflowjs) (2019.12.20)\n",
            "Requirement already satisfied: protobuf>=3.4.0 in /usr/local/lib/python3.6/dist-packages (from tensorflow-hub==0.7.0->tensorflowjs) (3.10.0)\n",
            "Requirement already satisfied: keras-preprocessing>=1.1.0 in /usr/local/lib/python3.6/dist-packages (from tensorflow-cpu>=2.1.0<3->tensorflowjs) (1.1.2)\n",
            "Requirement already satisfied: astunparse==1.6.3 in /usr/local/lib/python3.6/dist-packages (from tensorflow-cpu>=2.1.0<3->tensorflowjs) (1.6.3)\n",
            "Requirement already satisfied: tensorboard<2.3.0,>=2.2.0 in /usr/local/lib/python3.6/dist-packages (from tensorflow-cpu>=2.1.0<3->tensorflowjs) (2.2.1)\n",
            "Requirement already satisfied: opt-einsum>=2.3.2 in /usr/local/lib/python3.6/dist-packages (from tensorflow-cpu>=2.1.0<3->tensorflowjs) (3.2.1)\n",
            "Requirement already satisfied: scipy==1.4.1; python_version >= \"3\" in /usr/local/lib/python3.6/dist-packages (from tensorflow-cpu>=2.1.0<3->tensorflowjs) (1.4.1)\n",
            "Requirement already satisfied: grpcio>=1.8.6 in /usr/local/lib/python3.6/dist-packages (from tensorflow-cpu>=2.1.0<3->tensorflowjs) (1.29.0)\n",
            "Requirement already satisfied: tensorflow-estimator<2.3.0,>=2.2.0 in /usr/local/lib/python3.6/dist-packages (from tensorflow-cpu>=2.1.0<3->tensorflowjs) (2.2.0)\n",
            "Requirement already satisfied: wheel>=0.26; python_version >= \"3\" in /usr/local/lib/python3.6/dist-packages (from tensorflow-cpu>=2.1.0<3->tensorflowjs) (0.34.2)\n",
            "Requirement already satisfied: gast==0.3.3 in /usr/local/lib/python3.6/dist-packages (from tensorflow-cpu>=2.1.0<3->tensorflowjs) (0.3.3)\n",
            "Requirement already satisfied: termcolor>=1.1.0 in /usr/local/lib/python3.6/dist-packages (from tensorflow-cpu>=2.1.0<3->tensorflowjs) (1.1.0)\n",
            "Requirement already satisfied: google-pasta>=0.1.8 in /usr/local/lib/python3.6/dist-packages (from tensorflow-cpu>=2.1.0<3->tensorflowjs) (0.2.0)\n",
            "Requirement already satisfied: wrapt>=1.11.1 in /usr/local/lib/python3.6/dist-packages (from tensorflow-cpu>=2.1.0<3->tensorflowjs) (1.12.1)\n",
            "Requirement already satisfied: absl-py>=0.7.0 in /usr/local/lib/python3.6/dist-packages (from tensorflow-cpu>=2.1.0<3->tensorflowjs) (0.9.0)\n",
            "Requirement already satisfied: wcwidth in /usr/local/lib/python3.6/dist-packages (from prompt_toolkit==1.0.14->PyInquirer==1.0.3->tensorflowjs) (0.1.9)\n",
            "Requirement already satisfied: setuptools in /usr/local/lib/python3.6/dist-packages (from protobuf>=3.4.0->tensorflow-hub==0.7.0->tensorflowjs) (46.3.0)\n",
            "Requirement already satisfied: google-auth-oauthlib<0.5,>=0.4.1 in /usr/local/lib/python3.6/dist-packages (from tensorboard<2.3.0,>=2.2.0->tensorflow-cpu>=2.1.0<3->tensorflowjs) (0.4.1)\n",
            "Requirement already satisfied: werkzeug>=0.11.15 in /usr/local/lib/python3.6/dist-packages (from tensorboard<2.3.0,>=2.2.0->tensorflow-cpu>=2.1.0<3->tensorflowjs) (1.0.1)\n",
            "Requirement already satisfied: google-auth<2,>=1.6.3 in /usr/local/lib/python3.6/dist-packages (from tensorboard<2.3.0,>=2.2.0->tensorflow-cpu>=2.1.0<3->tensorflowjs) (1.7.2)\n",
            "Requirement already satisfied: markdown>=2.6.8 in /usr/local/lib/python3.6/dist-packages (from tensorboard<2.3.0,>=2.2.0->tensorflow-cpu>=2.1.0<3->tensorflowjs) (3.2.2)\n",
            "Requirement already satisfied: requests<3,>=2.21.0 in /usr/local/lib/python3.6/dist-packages (from tensorboard<2.3.0,>=2.2.0->tensorflow-cpu>=2.1.0<3->tensorflowjs) (2.23.0)\n",
            "Requirement already satisfied: tensorboard-plugin-wit>=1.6.0 in /usr/local/lib/python3.6/dist-packages (from tensorboard<2.3.0,>=2.2.0->tensorflow-cpu>=2.1.0<3->tensorflowjs) (1.6.0.post3)\n",
            "Requirement already satisfied: requests-oauthlib>=0.7.0 in /usr/local/lib/python3.6/dist-packages (from google-auth-oauthlib<0.5,>=0.4.1->tensorboard<2.3.0,>=2.2.0->tensorflow-cpu>=2.1.0<3->tensorflowjs) (1.3.0)\n",
            "Requirement already satisfied: rsa<4.1,>=3.1.4 in /usr/local/lib/python3.6/dist-packages (from google-auth<2,>=1.6.3->tensorboard<2.3.0,>=2.2.0->tensorflow-cpu>=2.1.0<3->tensorflowjs) (4.0)\n",
            "Requirement already satisfied: pyasn1-modules>=0.2.1 in /usr/local/lib/python3.6/dist-packages (from google-auth<2,>=1.6.3->tensorboard<2.3.0,>=2.2.0->tensorflow-cpu>=2.1.0<3->tensorflowjs) (0.2.8)\n",
            "Requirement already satisfied: cachetools<3.2,>=2.0.0 in /usr/local/lib/python3.6/dist-packages (from google-auth<2,>=1.6.3->tensorboard<2.3.0,>=2.2.0->tensorflow-cpu>=2.1.0<3->tensorflowjs) (3.1.1)\n",
            "Requirement already satisfied: importlib-metadata; python_version < \"3.8\" in /usr/local/lib/python3.6/dist-packages (from markdown>=2.6.8->tensorboard<2.3.0,>=2.2.0->tensorflow-cpu>=2.1.0<3->tensorflowjs) (1.6.0)\n",
            "Requirement already satisfied: certifi>=2017.4.17 in /usr/local/lib/python3.6/dist-packages (from requests<3,>=2.21.0->tensorboard<2.3.0,>=2.2.0->tensorflow-cpu>=2.1.0<3->tensorflowjs) (2020.4.5.1)\n",
            "Requirement already satisfied: urllib3!=1.25.0,!=1.25.1,<1.26,>=1.21.1 in /usr/local/lib/python3.6/dist-packages (from requests<3,>=2.21.0->tensorboard<2.3.0,>=2.2.0->tensorflow-cpu>=2.1.0<3->tensorflowjs) (1.24.3)\n",
            "Requirement already satisfied: chardet<4,>=3.0.2 in /usr/local/lib/python3.6/dist-packages (from requests<3,>=2.21.0->tensorboard<2.3.0,>=2.2.0->tensorflow-cpu>=2.1.0<3->tensorflowjs) (3.0.4)\n",
            "Requirement already satisfied: idna<3,>=2.5 in /usr/local/lib/python3.6/dist-packages (from requests<3,>=2.21.0->tensorboard<2.3.0,>=2.2.0->tensorflow-cpu>=2.1.0<3->tensorflowjs) (2.9)\n",
            "Requirement already satisfied: oauthlib>=3.0.0 in /usr/local/lib/python3.6/dist-packages (from requests-oauthlib>=0.7.0->google-auth-oauthlib<0.5,>=0.4.1->tensorboard<2.3.0,>=2.2.0->tensorflow-cpu>=2.1.0<3->tensorflowjs) (3.1.0)\n",
            "Requirement already satisfied: pyasn1>=0.1.3 in /usr/local/lib/python3.6/dist-packages (from rsa<4.1,>=3.1.4->google-auth<2,>=1.6.3->tensorboard<2.3.0,>=2.2.0->tensorflow-cpu>=2.1.0<3->tensorflowjs) (0.4.8)\n",
            "Requirement already satisfied: zipp>=0.5 in /usr/local/lib/python3.6/dist-packages (from importlib-metadata; python_version < \"3.8\"->markdown>=2.6.8->tensorboard<2.3.0,>=2.2.0->tensorflow-cpu>=2.1.0<3->tensorflowjs) (3.1.0)\n",
            "Building wheels for collected packages: PyInquirer\n",
            "  Building wheel for PyInquirer (setup.py) ... \u001b[?25l\u001b[?25hdone\n",
            "  Created wheel for PyInquirer: filename=PyInquirer-1.0.3-cp36-none-any.whl size=32851 sha256=18e5d53ad36966105f0e39ec1b41bbca5b50599bae3ca424394e5fe0af0d7283\n",
            "  Stored in directory: /root/.cache/pip/wheels/52/6c/b1/3e4b0e8daf42a92883c7641c0ea8ffb62e0490ebed2faa55ad\n",
            "Successfully built PyInquirer\n",
            "\u001b[31mERROR: ipython 7.14.0 has requirement prompt-toolkit!=3.0.0,!=3.0.1,<3.1.0,>=2.0.0, but you'll have prompt-toolkit 1.0.14 which is incompatible.\u001b[0m\n",
            "\u001b[31mERROR: google-colab 1.0.0 has requirement ipython~=5.5.0, but you'll have ipython 7.14.0 which is incompatible.\u001b[0m\n",
            "\u001b[31mERROR: datascience 0.10.6 has requirement folium==0.2.1, but you'll have folium 0.8.3 which is incompatible.\u001b[0m\n",
            "Installing collected packages: prompt-toolkit, Pygments, PyInquirer, tensorflow-hub, tensorflow-cpu, tensorflowjs\n",
            "  Found existing installation: prompt-toolkit 3.0.5\n",
            "    Uninstalling prompt-toolkit-3.0.5:\n",
            "      Successfully uninstalled prompt-toolkit-3.0.5\n",
            "  Found existing installation: Pygments 2.1.3\n",
            "    Uninstalling Pygments-2.1.3:\n",
            "      Successfully uninstalled Pygments-2.1.3\n",
            "  Found existing installation: tensorflow-hub 0.8.0\n",
            "    Uninstalling tensorflow-hub-0.8.0:\n",
            "      Successfully uninstalled tensorflow-hub-0.8.0\n",
            "Successfully installed PyInquirer-1.0.3 Pygments-2.6.1 prompt-toolkit-1.0.14 tensorflow-cpu-2.2.0 tensorflow-hub-0.7.0 tensorflowjs-1.7.4.post1\n"
          ],
          "name": "stdout"
        },
        {
          "output_type": "display_data",
          "data": {
            "application/vnd.colab-display-data+json": {
              "pip_warning": {
                "packages": [
                  "prompt_toolkit",
                  "pygments",
                  "tensorflow"
                ]
              }
            }
          },
          "metadata": {
            "tags": []
          }
        }
      ]
    },
    {
      "cell_type": "code",
      "metadata": {
        "id": "S9KwjLAMsp2P",
        "colab_type": "code",
        "colab": {}
      },
      "source": [
        "!mkdir model_85"
      ],
      "execution_count": null,
      "outputs": []
    },
    {
      "cell_type": "code",
      "metadata": {
        "id": "l_WrNHE3styz",
        "colab_type": "code",
        "colab": {
          "base_uri": "https://localhost:8080/",
          "height": 74
        },
        "outputId": "b5af5960-836e-4116-ff73-0dbe5b8c5931"
      },
      "source": [
        "import tensorflowjs as tfjs\n",
        "\n",
        "tfjs.converters.save_keras_model(model, \"./model_85\")"
      ],
      "execution_count": null,
      "outputs": [
        {
          "output_type": "stream",
          "text": [
            "/usr/local/lib/python3.6/dist-packages/tensorflowjs/converters/keras_h5_conversion.py:122: H5pyDeprecationWarning: The default file mode will change to 'r' (read-only) in h5py 3.0. To suppress this warning, pass the mode you need to h5py.File(), or set the global default h5.get_config().default_file_mode, or set the environment variable H5PY_DEFAULT_READONLY=1. Available modes are: 'r', 'r+', 'w', 'w-'/'x', 'a'. See the docs for details.\n",
            "  return h5py.File(h5file)\n"
          ],
          "name": "stderr"
        }
      ]
    },
    {
      "cell_type": "code",
      "metadata": {
        "id": "DpXgu1ZotZic",
        "colab_type": "code",
        "colab": {
          "base_uri": "https://localhost:8080/",
          "height": 972
        },
        "outputId": "52624b01-97c1-4ea8-94f3-a2b54098ceab"
      },
      "source": [
        "!zip -r ./model_85.zip ./model_85"
      ],
      "execution_count": null,
      "outputs": [
        {
          "output_type": "stream",
          "text": [
            "  adding: model_85/ (stored 0%)\n",
            "  adding: model_85/group1-shard7of50.bin (deflated 7%)\n",
            "  adding: model_85/group1-shard26of50.bin (deflated 7%)\n",
            "  adding: model_85/group1-shard5of50.bin (deflated 7%)\n",
            "  adding: model_85/group1-shard12of50.bin (deflated 7%)\n",
            "  adding: model_85/group1-shard19of50.bin (deflated 7%)\n",
            "  adding: model_85/group1-shard49of50.bin (deflated 7%)\n",
            "  adding: model_85/group1-shard17of50.bin (deflated 7%)\n",
            "  adding: model_85/group1-shard13of50.bin (deflated 7%)\n",
            "  adding: model_85/group1-shard33of50.bin (deflated 7%)\n",
            "  adding: model_85/group1-shard45of50.bin (deflated 7%)\n",
            "  adding: model_85/group1-shard34of50.bin (deflated 7%)\n",
            "  adding: model_85/group1-shard35of50.bin (deflated 7%)\n",
            "  adding: model_85/group1-shard6of50.bin (deflated 7%)\n",
            "  adding: model_85/group1-shard50of50.bin (deflated 7%)\n",
            "  adding: model_85/group1-shard24of50.bin (deflated 7%)\n",
            "  adding: model_85/group1-shard2of50.bin (deflated 7%)\n",
            "  adding: model_85/group1-shard43of50.bin (deflated 7%)\n",
            "  adding: model_85/group1-shard20of50.bin (deflated 7%)\n",
            "  adding: model_85/group1-shard10of50.bin (deflated 7%)\n",
            "  adding: model_85/group1-shard36of50.bin (deflated 7%)\n",
            "  adding: model_85/group1-shard11of50.bin (deflated 7%)\n",
            "  adding: model_85/group1-shard15of50.bin (deflated 7%)\n",
            "  adding: model_85/group1-shard48of50.bin (deflated 7%)\n",
            "  adding: model_85/group1-shard41of50.bin (deflated 7%)\n",
            "  adding: model_85/group1-shard18of50.bin (deflated 7%)\n",
            "  adding: model_85/group1-shard38of50.bin (deflated 7%)\n",
            "  adding: model_85/group1-shard9of50.bin (deflated 7%)\n",
            "  adding: model_85/group1-shard39of50.bin (deflated 7%)\n",
            "  adding: model_85/group1-shard44of50.bin (deflated 7%)\n",
            "  adding: model_85/group1-shard1of50.bin (deflated 8%)\n",
            "  adding: model_85/group1-shard28of50.bin (deflated 7%)\n",
            "  adding: model_85/group1-shard25of50.bin (deflated 7%)\n",
            "  adding: model_85/group1-shard30of50.bin (deflated 7%)\n",
            "  adding: model_85/group1-shard29of50.bin (deflated 7%)\n",
            "  adding: model_85/group1-shard40of50.bin (deflated 7%)\n",
            "  adding: model_85/group1-shard37of50.bin (deflated 7%)\n",
            "  adding: model_85/group1-shard47of50.bin (deflated 7%)\n",
            "  adding: model_85/group1-shard3of50.bin (deflated 7%)\n",
            "  adding: model_85/group1-shard31of50.bin (deflated 7%)\n",
            "  adding: model_85/group1-shard4of50.bin (deflated 7%)\n",
            "  adding: model_85/group1-shard23of50.bin (deflated 7%)\n",
            "  adding: model_85/group1-shard21of50.bin (deflated 7%)\n",
            "  adding: model_85/group1-shard22of50.bin (deflated 7%)\n",
            "  adding: model_85/model.json (deflated 90%)\n",
            "  adding: model_85/group1-shard42of50.bin (deflated 7%)\n",
            "  adding: model_85/group1-shard46of50.bin (deflated 7%)\n",
            "  adding: model_85/group1-shard32of50.bin (deflated 7%)\n",
            "  adding: model_85/group1-shard27of50.bin (deflated 7%)\n",
            "  adding: model_85/group1-shard8of50.bin (deflated 7%)\n",
            "  adding: model_85/group1-shard16of50.bin (deflated 7%)\n",
            "  adding: model_85/group1-shard14of50.bin (deflated 7%)\n"
          ],
          "name": "stdout"
        }
      ]
    }
  ]
}